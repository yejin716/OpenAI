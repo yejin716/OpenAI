{
  "cells": [
    {
      "cell_type": "code",
      "execution_count": 15,
      "metadata": {
        "colab": {
          "base_uri": "https://localhost:8080/"
        },
        "id": "59ayHHJN6MJI",
        "outputId": "4049159a-1c1b-4a67-e11b-6f3f11ccc503"
      },
      "outputs": [
        {
          "name": "stdout",
          "output_type": "stream",
          "text": [
            "Requirement already satisfied: openai==0.28.0 in /usr/local/lib/python3.10/dist-packages (0.28.0)\n",
            "Requirement already satisfied: requests>=2.20 in /usr/local/lib/python3.10/dist-packages (from openai==0.28.0) (2.31.0)\n",
            "Requirement already satisfied: tqdm in /usr/local/lib/python3.10/dist-packages (from openai==0.28.0) (4.66.4)\n",
            "Requirement already satisfied: aiohttp in /usr/local/lib/python3.10/dist-packages (from openai==0.28.0) (3.9.5)\n",
            "Requirement already satisfied: charset-normalizer<4,>=2 in /usr/local/lib/python3.10/dist-packages (from requests>=2.20->openai==0.28.0) (3.3.2)\n",
            "Requirement already satisfied: idna<4,>=2.5 in /usr/local/lib/python3.10/dist-packages (from requests>=2.20->openai==0.28.0) (3.7)\n",
            "Requirement already satisfied: urllib3<3,>=1.21.1 in /usr/local/lib/python3.10/dist-packages (from requests>=2.20->openai==0.28.0) (2.0.7)\n",
            "Requirement already satisfied: certifi>=2017.4.17 in /usr/local/lib/python3.10/dist-packages (from requests>=2.20->openai==0.28.0) (2024.2.2)\n",
            "Requirement already satisfied: aiosignal>=1.1.2 in /usr/local/lib/python3.10/dist-packages (from aiohttp->openai==0.28.0) (1.3.1)\n",
            "Requirement already satisfied: attrs>=17.3.0 in /usr/local/lib/python3.10/dist-packages (from aiohttp->openai==0.28.0) (23.2.0)\n",
            "Requirement already satisfied: frozenlist>=1.1.1 in /usr/local/lib/python3.10/dist-packages (from aiohttp->openai==0.28.0) (1.4.1)\n",
            "Requirement already satisfied: multidict<7.0,>=4.5 in /usr/local/lib/python3.10/dist-packages (from aiohttp->openai==0.28.0) (6.0.5)\n",
            "Requirement already satisfied: yarl<2.0,>=1.0 in /usr/local/lib/python3.10/dist-packages (from aiohttp->openai==0.28.0) (1.9.4)\n",
            "Requirement already satisfied: async-timeout<5.0,>=4.0 in /usr/local/lib/python3.10/dist-packages (from aiohttp->openai==0.28.0) (4.0.3)\n"
          ]
        }
      ],
      "source": [
        "# !pip install openai==0.28.0"
      ]
    },
    {
      "cell_type": "code",
      "execution_count": 16,
      "metadata": {
        "id": "MS7M_CY_6iLu"
      },
      "outputs": [],
      "source": [
        "import openai\n",
        "\n"
      ]
    },
    {
      "cell_type": "code",
      "execution_count": 17,
      "metadata": {
        "colab": {
          "base_uri": "https://localhost:8080/"
        },
        "id": "lDXubSYQ6iGq",
        "outputId": "d5179c4f-175e-4d0d-dbcd-fbdbbfacf5ff"
      },
      "outputs": [
        {
          "name": "stdout",
          "output_type": "stream",
          "text": [
            "안녕하세요! ISTP 유형의 여러분은 실용적이고 현실적인 성향을 가지고 있어요. 연인인 우도환씨와의 100일 기념 선물을 준비하시는 것은 멋진 아이디어입니다. \n",
            "\n",
            "ISTP 유형은 실용적이고 현실적인 면이 강하기 때문에, 우도환씨가 실제로 사용하거나 즐길 수 있는 선물을 선택하는 것이 좋을 것 같아요. 몇 가지 아이디어를 드리자면:\n",
            "\n",
            "1. 우도환씨가 좋아하는 취미나 관심사에 관련된 선물: 예를 들어, 취미로 하는 스포츠 용품, 책, 음악 CD, 요리 도구 등을 선물할 수 있어요.\n",
            "\n",
            "2. 함께 즐길 수 있는 활동 선물: 예를 들어, 영화 티켓, 콘서트 티켓, 요가 수업권, 요리 클래스 등을 선물하여 함께 시간을 보낼 수 있는 기회를 만들어보세요.\n",
            "\n",
            "3. 소중한 순간을 기억할 수 있는 아이템: 예를 들어, 사진 액자, 커플 아이템, 특별한 메시지가 새겨진 소품 등을 선물하여 이 날을 기억할 수 있는 아이템으로 남길 수 있어요.\n",
            "\n",
            "100일 기념 선물은 상대방의 취향과 관심사를 고려하여 선택하는 것이 중요하니, 우도환씨가 좋아할 만한 선물을 선택해보세요. 축하드립니다!\n"
          ]
        }
      ],
      "source": [
        "OPENAI_API_KEY = 'api 입력하세요'\n",
        "openai.api_key = OPENAI_API_KEY\n",
        "\n",
        "\n",
        "model = 'gpt-3.5-turbo'\n",
        "\n",
        "query = '''\n",
        "나의 mbti : istp\n",
        "상대방 이름 : 우도환\n",
        "관계 : 연인\n",
        "상황 : 만난지 100일 된 상황\n",
        "질문 : 100일 기념 선물로 무엇이 좋을거 같아? 보통 어떤 거 선물하지?\n",
        "'''\n",
        "\n",
        "\n",
        "messages = [\n",
        "    {\"role\" : \"system\", \"content\" : '연애전문상담가'},\n",
        "    {\"role\" : \"user\", \"content\" : query}\n",
        "\n",
        "]\n",
        "\n",
        "try:\n",
        "    response = openai.ChatCompletion.create(\n",
        "        model = model,\n",
        "        messages = messages,\n",
        "        temperature = 0, # 0에 가까울 수록 일반적인 답변\n",
        "        # 0-1 1에 가까우면 창의적 답변(할루시네이션 가능성 존재)\n",
        "\n",
        "    )\n",
        "    print(response.choices[0].message['content'])\n",
        "\n",
        "except Exception as e:\n",
        "    print(f'에러가 발생했어요: {e}')"
      ]
    },
    {
      "cell_type": "markdown",
      "metadata": {
        "id": "CqZwl0RRAA2L"
      },
      "source": [
        "MBTI 입력받는 프로그램 ( 초창기 모델 v.0)"
      ]
    },
    {
      "cell_type": "code",
      "execution_count": 18,
      "metadata": {
        "colab": {
          "base_uri": "https://localhost:8080/"
        },
        "id": "MD1E5F_Y6iEk",
        "outputId": "9716b9e5-07b6-47ff-856c-178d2598660d"
      },
      "outputs": [
        {
          "name": "stdout",
          "output_type": "stream",
          "text": [
            "내 mbti : istp\n",
            "상대방 mbti : estp\n",
            "상대방 이름 : 우도환\n",
            "관계 : 연인\n",
            "상황 : 사귄지 100일됨\n",
            "질문 : 어떤 데이트를 해야할까\n",
            "ISTP와 ESTP는 둘 다 현실적이고 활동적인 성격을 가지고 있기 때문에 두 분이 함께하는 데이트는 활동적이고 스릴 넘치는 것이 적합할 것입니다. \n",
            "\n",
            "1. 액티비티 데이트: 산 등반, 서핑, 스케이트보드 타기, 바다 낚시 등 스포츠나 액티비티를 즐길 수 있는 데이트를 추천합니다. 두 분이 함께 협력하고 경쟁하며 즐길 수 있는 활동이라면 더욱 좋을 것입니다.\n",
            "\n",
            "2. 미식 투어: 함께 맛집을 돌아다니며 다양한 음식을 즐기는 미식 투어도 좋은 선택입니다. ESTP는 새로운 경험을 즐기는 것을 좋아하고, ISTP는 새로운 맛을 발견하는 것을 즐길 수 있을 것입니다.\n",
            "\n",
            "3. 자연 속 피크닉: 자연 속에서 피크닉을 즐기면서 즐거운 대화를 나누고 휴식을 취할 수도 있습니다. 산책이나 자전거 타기 등의 활동도 함께 즐길 수 있을 것입니다.\n",
            "\n",
            "4. 엔터테인먼트 데이트: 영화나 컨서트, 뮤지컬 등 다양한 엔터테인먼트를 즐길 수 있는 데이트도 좋은 선택입니다. 감동과 재미를 함께 공유하는 경험은 더욱 더 연인 간의 유대감을 쌓을 수 있을 것입니다.\n",
            "\n",
            "이러한 다양한 데이트 아이디어 중에서 두 분이 즐길만한 것을 선택하여 즐거운 시간을 보내시길 바랍니다. 함께 새로운 경험을 만들며 서로를 더 깊게 알아가는 시간이 되길 기원합니다.\n"
          ]
        }
      ],
      "source": [
        "#사용자로부터 mbti 관계, 상황 등 입력 받기\n",
        "\n",
        "my_mbti = input('내 mbti : ').upper() #대문자로 변환\n",
        "your_mbti = input('상대방 mbti : ').upper()\n",
        "your_name = input('상대방 이름 : ')\n",
        "relation = input('관계 : ')\n",
        "situation = input('상황 : ')\n",
        "question = input('질문 : ')\n",
        "\n",
        "\n",
        "query = f'''\n",
        "나의 mbti : {my_mbti}\n",
        "상대방 mbti : {your_mbti}\n",
        "상대방 이름 : {your_name}\n",
        "관계 : {relation}\n",
        "상황 : {situation}\n",
        "질문 : {question}\n",
        "'''\n",
        "\n",
        "messages = [\n",
        "    {\"role\" : \"system\", \"content\" : '연애전문상담가'},\n",
        "    {\"role\" : \"user\", \"content\" : query}\n",
        "\n",
        "]\n",
        "\n",
        "try:\n",
        "    response = openai.ChatCompletion.create(\n",
        "        model = model,\n",
        "        messages = messages,\n",
        "        temperature = 0.7, # 0에 가까울 수록 일반적인 답변\n",
        "        # 0-1 1에 가까우면 창의적 답변(할루시네이션 가능성 존재)\n",
        "\n",
        "    )\n",
        "    print(response.choices[0].message['content'])\n",
        "\n",
        "except Exception as e:\n",
        "    print(f'에러가 발생했어요: {e}')"
      ]
    },
    {
      "cell_type": "markdown",
      "metadata": {
        "id": "WEBHsaW9B0sR"
      },
      "source": [
        "나만의 연애상담봇"
      ]
    },
    {
      "cell_type": "code",
      "execution_count": 19,
      "metadata": {
        "colab": {
          "base_uri": "https://localhost:8080/"
        },
        "id": "tmNSnt4F6iBH",
        "outputId": "4486da33-6500-4393-d4e0-7c20f102c559"
      },
      "outputs": [
        {
          "name": "stdout",
          "output_type": "stream",
          "text": [
            "내 mbti : istp\n",
            "상대방 mbti : estp\n",
            "상대방 이름 : 우도환\n",
            "관계 : 연인\n",
            "상황 : 사귄지 100일 됨\n",
            "질문 : 어떤 데이트를 해야할까\n",
            "답변을 준비중입니다. 잠시만 기다려 주세요.\n",
            "안녕하세요! ISTP와 ESTP는 둘 다 현실적이고 즉흥적인 성향을 가지고 있어서, 다양한 활동을 즐기며 새로운 경험을 즐기는 것을 좋아합니다. 우도환과 함께하는 100일 기념 데이트를 즐길 수 있는 몇 가지 아이디어를 제안해 드릴게요.\n",
            "\n",
            "1. 야외 어드벤처: 산책이나 등산을 즐기는 것도 좋지만, 좀 더 스릴 있는 활동을 해보는 것도 좋을 것 같아요. 바다나 산 속에서 바다카누를 타거나 스카이다이빙, 서핑 등의 활동을 즐기는 것도 좋은 선택일 수 있습니다.\n",
            "\n",
            "2. 요리 클래스: 함께 요리를 배우는 것은 즐거운 경험이 될 수 있습니다. 새로운 요리를 배우고 함께 만들어보면서 서로의 취향을 알아가는 시간을 가질 수 있어요.\n",
            "\n",
            "3. 미술관이나 박물관 방문: 예술이나 역사에 관심이 있는 경우, 미술관이나 박물관을 방문하여 함께 전시물을 감상하고 이야기를 나누는 것도 좋은 방법입니다.\n",
            "\n",
            "4. 테마파크나 워터파크: 스릴 넘치는 놀이기구를 타거나 시원한 물놀이를 즐기는 것도 기념일을 즐겁게 보낼 수 있는 좋은 방법이에요.\n",
            "\n",
            "5. 스포츠 경기 관람: 둘 다 스포츠를 좋아한다면, 지역에서 열리는 스포츠 경기를 관람하는 것도 재미있는 경험이 될 수 있습니다.\n",
            "\n",
            "이 중에서 우도환과 당신이 함께 하고 싶은 활동을 골라서 즐겁게 보내시길 바랍니다! 함께하는 시간이 더욱 특별하고 소중한 기념일이 되기를 기원합니다.\n",
            "질문 : 데이트를 하면서 싸우지 않을 방법은 뭐가 있을까\n",
            "답변을 준비중이예요...\n",
            "================================================================================================================================================================\n",
            "데이트를 하면서 싸우지 않는 것은 매우 중요한 부분이며, 건강한 관계를 유지하는 데 도움이 됩니다. 여기 몇 가지 팁을 제시해드리겠습니다:\n",
            "\n",
            "1. 솔직하고 열린 대화: 불만이나 갈등이 생겼을 때, 솔직하고 상대방에게 열린 마음으로 대화하는 것이 중요합니다. 서로의 감정을 솔직하게 표현하고 이해하려는 노력을 보이면서 문제를 해결해 나가는 것이 좋습니다.\n",
            "\n",
            "2. 존중과 이해: 서로의 의견과 감정을 존중하고 이해하는 것이 중요합니다. 상대방의 관점을 이해하려는 노력을 기울이고, 상대방의 감정을 존중해주는 것이 중요합니다.\n",
            "\n",
            "3. 갈등 해결 능력 강화: 갈등이 생겼을 때 어떻게 상황을 해결할지에 대한 방법을 미리 고민해두는 것이 도움이 될 수 있습니다. 상대방과 함께 문제를 해결하고 좋은 방향으로 나아가는 능력을 키워보세요.\n",
            "\n",
            "4. 적절한 휴식과 공간: 때로는 갈등 상황을 피하고 싶을 때가 있습니다. 이때 상대방에게 적절한 휴식과 공간을 주는 것이 중요합니다. 상대방의 감정을 존중하고 적절한 시간을 가지면서 상황을 잘 다룰 수 있습니다.\n",
            "\n",
            "5. 긍정적인 마인드셋: 긍정적인 마인드셋을 유지하고, 상대방과 함께 어려운 상황을 극복하고 성장하는 기회로 삼는 것이 중요합니다. 문제를 해결하는 과정에서도 긍정적인 태도를 유지하려 노력해보세요.\n",
            "\n",
            "위의 팁을 참고하여, 우도환과의 관계를 건강하게 유지하면서 더욱 깊은 이해와 신뢰를 쌓아가시길 바랍니다. 함께하는 시간이 더욱 행복하고 의미 있는 것이 되길 기원합니다.\n",
            "더 질문하시겠습니까? (y/n) : n\n",
            "프로그램을 종료합니다.\n"
          ]
        }
      ],
      "source": [
        "#사용자로부터 mbti 관계, 상황 등 입력 받기\n",
        "\n",
        "my_mbti = input('내 mbti : ').upper() #대문자로 변환\n",
        "your_mbti = input('상대방 mbti : ').upper()\n",
        "your_name = input('상대방 이름 : ')\n",
        "relation = input('관계 : ')\n",
        "situation = input('상황 : ')\n",
        "question = input('질문 : ')\n",
        "\n",
        "\n",
        "query = f'''\n",
        "나의 mbti : {my_mbti}\n",
        "상대방 mbti : {your_mbti}\n",
        "상대방 이름 : {your_name}\n",
        "관계 : {relation}\n",
        "상황 : {situation}\n",
        "질문 : {question}\n",
        "'''\n",
        "\n",
        "messages = [\n",
        "    {\"role\" : \"system\", \"content\" : '연애전문상담가'},\n",
        "    {\"role\" : \"user\", \"content\" : query}\n",
        "\n",
        "]\n",
        "\n",
        "print('답변을 준비중입니다. 잠시만 기다려 주세요.')\n",
        "\n",
        "\n",
        "\n",
        "response = openai.ChatCompletion.create(\n",
        "     model = model,\n",
        "    messages = messages,\n",
        "    temperature = 0.7, # 0에 가까울 수록 일반적인 답변\n",
        "    # 0-1 1에 가까우면 창의적 답변(할루시네이션 가능성 존재)\n",
        "\n",
        ")\n",
        "answer = response.choices[0].message['content']\n",
        "messages.append({'role' : 'assistant', 'content' : answer})\n",
        "print(answer)\n",
        "\n",
        "#질문이 끊기지 않고 계속 하도록 while 사용 (multi-turn 구현)\n",
        "\n",
        "while True:\n",
        "    #사용자로부터 질문을 받습니다.\n",
        "    question = input('질문 : ')\n",
        "    query = f\"Q : {question}\" #질문을 메시지 배열에 추가\n",
        "    messages.append({'role' : 'user', 'content' : query})\n",
        "    #chatgpt api 호출 >> 응답받기\n",
        "    print('답변을 준비중이예요...')\n",
        "    response = openai.ChatCompletion.create(\n",
        "    model = model,\n",
        "    messages = messages,\n",
        "    temperature = 0.7, # 0에 가까울 수록 일반적인 답변\n",
        "    # 0-1 1에 가까우면 창의적 답변(할루시네이션 가능성 존재)\n",
        "\n",
        ")\n",
        "    answer = response.choices[0].message['content']\n",
        "    #응답을 출력\n",
        "    print('=='*80)\n",
        "    messages.append({'role' : 'assistant', 'content' : answer})\n",
        "    print(answer)\n",
        "    #사용자에게 계속 질문할 건지 확인하기\n",
        "\n",
        "    while True:\n",
        "        q = input('더 질문하시겠습니까? (y/n) : ').lower() #입력된 영어문자를 소문자로 변환\n",
        "        if q in ['y', 'n','ㅛ','ㅜ']:\n",
        "            break #정지조건\n",
        "        else:\n",
        "            print('유효한 입력이 아닙니다. y나n중 선택하여 다시 입력하세요')\n",
        "    if q in ['n','ㅜ']:\n",
        "        print('프로그램을 종료합니다.')\n",
        "        break"
      ]
    },
    {
      "cell_type": "code",
      "execution_count": 19,
      "metadata": {
        "id": "OGMUonra6h-3"
      },
      "outputs": [],
      "source": []
    },
    {
      "cell_type": "code",
      "execution_count": 19,
      "metadata": {
        "id": "-wjD6QtT6h81"
      },
      "outputs": [],
      "source": []
    }
  ],
  "metadata": {
    "colab": {
      "provenance": []
    },
    "kernelspec": {
      "display_name": "Python 3",
      "name": "python3"
    },
    "language_info": {
      "name": "python"
    }
  },
  "nbformat": 4,
  "nbformat_minor": 0
}
