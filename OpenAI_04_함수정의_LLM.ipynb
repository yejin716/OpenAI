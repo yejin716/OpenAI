{
  "nbformat": 4,
  "nbformat_minor": 0,
  "metadata": {
    "colab": {
      "provenance": []
    },
    "kernelspec": {
      "name": "python3",
      "display_name": "Python 3"
    },
    "language_info": {
      "name": "python"
    }
  },
  "cells": [
    {
      "cell_type": "code",
      "execution_count": null,
      "metadata": {
        "id": "dxLTlzyIo9Yg"
      },
      "outputs": [],
      "source": [
        "#LLM : Large Language Model (대규모 언어모델) | OpenAI, Gemini\n",
        "# >> sLLM : smaller Large Language Model | (뤼튼, 네이버 클로바) 엔진: openai, 나머지: llama index\n",
        "#LM : Language Model 언어 모델\n",
        "#NLP : Natural Language Processing 자연어처리\n",
        "#NLU : Natural Language Understanding 자연어 이해 >> 읽고 듣기 (토익) | BERT\n",
        "#NLG : Natural Language Generation 자연어 생성 >> 말하고 쓰기  (토스) | GPT"
      ]
    },
    {
      "cell_type": "code",
      "source": [
        "#기본 llm 함수\n",
        "\n",
        "#prompt >> llm >> response\n",
        "\n",
        "def llm(prompt):\n",
        "    response = '안녕하세요. 무엇을 도와드릴까요?'\n",
        "    return response"
      ],
      "metadata": {
        "id": "dOtJPqF0rncE"
      },
      "execution_count": 4,
      "outputs": []
    },
    {
      "cell_type": "code",
      "source": [
        "llm('안녕?')"
      ],
      "metadata": {
        "colab": {
          "base_uri": "https://localhost:8080/",
          "height": 35
        },
        "id": "OiAfOOIrsBqI",
        "outputId": "963f4482-913f-4883-f38d-0250a7a0e728"
      },
      "execution_count": 5,
      "outputs": [
        {
          "output_type": "execute_result",
          "data": {
            "text/plain": [
              "'안녕하세요. 무엇을 도와드릴까요?'"
            ],
            "application/vnd.google.colaboratory.intrinsic+json": {
              "type": "string"
            }
          },
          "metadata": {},
          "execution_count": 5
        }
      ]
    },
    {
      "cell_type": "markdown",
      "source": [
        "긍정 / 부정 분류기(자동화)"
      ],
      "metadata": {
        "id": "-0UD8hRFsI9f"
      }
    },
    {
      "cell_type": "code",
      "source": [
        "def llm(prompt):\n",
        "    response = '긍정'\n",
        "    return response\n",
        "\n",
        "def classify_text(input_text):\n",
        "    # input_text 가 긍정 >> label = '긍정' or 1\n",
        "    # input_text 가 부정 >> label = '부정' or 0\n",
        "\n",
        "    label = llm(input_text)\n",
        "\n",
        "    if label == '긍정':\n",
        "        return 1\n",
        "    return 0\n"
      ],
      "metadata": {
        "id": "hSrwB28xsI0T"
      },
      "execution_count": 6,
      "outputs": []
    },
    {
      "cell_type": "code",
      "source": [
        "# 맛집 댓글(리뷰) 데이터 셋\n",
        "\n",
        "comments = [\n",
        "    \"여기 음식은 언제 와도 실망시키지 않아요. 최고!\",\n",
        "    \"여기 라멘 진짜 ㄹㅇ 맛있어요. 국물이 진하고 면도 쫄깃해서 너무 좋았습니다.\",\n",
        "    \"진짜 깔끔하고, 맛도 좋았어요. 추천합니다!\",\n",
        "    \"왜 이렇게 유명한지 모르겠음ㅋㅋ ㄹㅈㄷ 맛없음\",\n",
        "    \"인생 타르트를 여기서 만났어요 달지 않고 고소해서 정말 추천합니다!\",\n",
        "    \"메뉴 설명을 너무 친절하게 해주셔서 고르기 수월했어요.\",\n",
        "    \"사진과 음식이 너무 달라서 실망했습니다.\",\n",
        "    \"주변에 추천하려고 사진도 많이 찍었어요. 좋아요!\",\n",
        "    \"솔직히...? 맛이 그닥이에요. 리뷰랑 너무 다르네.\",\n",
        "    \"진짜 개꿀맛..ㅠ 다른곳 안가.\"\n",
        "]"
      ],
      "metadata": {
        "id": "IAD51ZGNsIyi"
      },
      "execution_count": 7,
      "outputs": []
    },
    {
      "cell_type": "code",
      "source": [
        "for comment in comments:\n",
        "    comment_class = classify_text(comment)\n",
        "    print('comment: ', comment)\n",
        "    print('class: ', comment_class)\n",
        ""
      ],
      "metadata": {
        "colab": {
          "base_uri": "https://localhost:8080/"
        },
        "id": "qL_NYy92sIww",
        "outputId": "89ca05ce-8022-405a-a36c-4686c1df90a1"
      },
      "execution_count": 8,
      "outputs": [
        {
          "output_type": "stream",
          "name": "stdout",
          "text": [
            "comment:  여기 음식은 언제 와도 실망시키지 않아요. 최고!\n",
            "class:  1\n",
            "comment:  여기 라멘 진짜 ㄹㅇ 맛있어요. 국물이 진하고 면도 쫄깃해서 너무 좋았습니다.\n",
            "class:  1\n",
            "comment:  진짜 깔끔하고, 맛도 좋았어요. 추천합니다!\n",
            "class:  1\n",
            "comment:  왜 이렇게 유명한지 모르겠음ㅋㅋ ㄹㅈㄷ 맛없음\n",
            "class:  1\n",
            "comment:  인생 타르트를 여기서 만났어요 달지 않고 고소해서 정말 추천합니다!\n",
            "class:  1\n",
            "comment:  메뉴 설명을 너무 친절하게 해주셔서 고르기 수월했어요.\n",
            "class:  1\n",
            "comment:  사진과 음식이 너무 달라서 실망했습니다.\n",
            "class:  1\n",
            "comment:  주변에 추천하려고 사진도 많이 찍었어요. 좋아요!\n",
            "class:  1\n",
            "comment:  솔직히...? 맛이 그닥이에요. 리뷰랑 너무 다르네.\n",
            "class:  1\n",
            "comment:  진짜 개꿀맛..ㅠ 다른곳 안가.\n",
            "class:  1\n"
          ]
        }
      ]
    },
    {
      "cell_type": "code",
      "source": [],
      "metadata": {
        "id": "L71XarpzsIu6"
      },
      "execution_count": null,
      "outputs": []
    },
    {
      "cell_type": "code",
      "source": [],
      "metadata": {
        "id": "wc1T5NmhsItG"
      },
      "execution_count": null,
      "outputs": []
    },
    {
      "cell_type": "code",
      "source": [],
      "metadata": {
        "id": "pdHNHGR-sIrI"
      },
      "execution_count": null,
      "outputs": []
    }
  ]
}