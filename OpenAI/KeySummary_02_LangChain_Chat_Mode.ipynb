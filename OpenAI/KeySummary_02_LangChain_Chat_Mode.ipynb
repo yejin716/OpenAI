{
  "nbformat": 4,
  "nbformat_minor": 0,
  "metadata": {
    "colab": {
      "provenance": [],
      "gpuType": "T4"
    },
    "kernelspec": {
      "name": "python3",
      "display_name": "Python 3"
    },
    "language_info": {
      "name": "python"
    },
    "accelerator": "GPU"
  },
  "cells": [
    {
      "cell_type": "code",
      "execution_count": null,
      "metadata": {
        "id": "1uWwRiRdVxQG"
      },
      "outputs": [],
      "source": [
        "!pip install -qU langchain openai\n",
        "!pip install langchain_community"
      ]
    },
    {
      "cell_type": "code",
      "source": [
        "from google.colab import userdata\n",
        "import os\n",
        "\n",
        "os.environ[\"OPENAI_API_KEY\"] = userdata.get('open_ai_key_team3')"
      ],
      "metadata": {
        "id": "Kt-Ou65yWF1n"
      },
      "execution_count": null,
      "outputs": []
    },
    {
      "cell_type": "code",
      "source": [
        "from langchain.chat_models import ChatOpenAI\n",
        "\n",
        "chat = ChatOpenAI(\n",
        "    temperature = 0,\n",
        "    model = 'gpt-3.5-turbo'\n",
        ")\n",
        "print(chat)"
      ],
      "metadata": {
        "id": "vaD-fX8VWMxq"
      },
      "execution_count": null,
      "outputs": []
    },
    {
      "cell_type": "code",
      "source": [
        "from langchain.schema import (\n",
        "    SystemMessage,\n",
        "    HumanMessage,\n",
        "    AIMessage\n",
        ")\n",
        "\n",
        "messages = [\n",
        "    SystemMessage(content = 'You are a helpful assistant. Answer in Korean'),\n",
        "    HumanMessage(content='Hi AI, how are to today?'),\n",
        "    AIMessage(content = 'I am great thank you. How can i help you?'),\n",
        "    HumanMessage(content=\"I'd like to understand cosmos\")\n",
        "            ]"
      ],
      "metadata": {
        "id": "hopRFSkPWFzx"
      },
      "execution_count": null,
      "outputs": []
    },
    {
      "cell_type": "code",
      "source": [
        "chat(messages)"
      ],
      "metadata": {
        "id": "IGMsHSHHWFxo"
      },
      "execution_count": null,
      "outputs": []
    },
    {
      "cell_type": "code",
      "source": [
        "response = chat(messages)\n",
        "response.content"
      ],
      "metadata": {
        "id": "AtB7tDrzWFva"
      },
      "execution_count": null,
      "outputs": []
    },
    {
      "cell_type": "code",
      "source": [
        "#답변을 대화에 추가\n",
        "messages.append(response)\n",
        "\n",
        "# 새로운 사용자 입력 생성\n",
        "prompt = HumanMessage(content = \"우주는 언제 만들어졌나요?\")\n",
        "\n",
        "messages.append(prompt)\n",
        "res = chat(messages)\n",
        "print(res.content)"
      ],
      "metadata": {
        "id": "rPs_t7NtWFtg"
      },
      "execution_count": null,
      "outputs": []
    },
    {
      "cell_type": "code",
      "source": [
        "import textwrap\n",
        "# Wrap this text.\n",
        "response = res.content\n",
        "wrapper = textwrap.TextWrapper(width=50, break_long_words=False, replace_whitespace=False)\n",
        "word_list = wrapper.wrap(text=response)\n",
        "# Print each line.\n",
        "for element in word_list:\n",
        "    print(element)"
      ],
      "metadata": {
        "id": "UjotLFEoWFrb"
      },
      "execution_count": null,
      "outputs": []
    },
    {
      "cell_type": "markdown",
      "source": [
        "New Prompt Templates\n",
        "- SystemMessagePromptTemplate,\n",
        "- AIMessagePromptTemplate,\n",
        "- HumanMessagePromptTemplate."
      ],
      "metadata": {
        "id": "VH2Lv00lZKbc"
      }
    },
    {
      "cell_type": "code",
      "source": [
        "ChatOpenAI(\n",
        "    temperature = 0,\n",
        "    model = 'gpt-3.5-turbo'\n",
        ")\n",
        "\n",
        "messages = [\n",
        "    SystemMessage(content=(\n",
        "        '당신은 도움을 주는 조수입니다. '\n",
        "        '모든 답변은 100자 이하 길이(공백 포함)를 유지합니다. '\n",
        "        '메시지에는 \"옐리\" 이름으로 서명합니다..'\n",
        "    )),\n",
        "    HumanMessage(content='안녕하세요 AI, 천체 물리학이 뭘까요?')\n",
        "]\n",
        "\n",
        "print('message ==', messages)"
      ],
      "metadata": {
        "id": "H_yMO7-DWFpn"
      },
      "execution_count": null,
      "outputs": []
    },
    {
      "cell_type": "code",
      "source": [
        "res = chat(messages)\n",
        "response = res.content\n",
        "word_list = wrapper.wrap(text=response)\n",
        "\n",
        "for element in word_list:\n",
        "    print(element)"
      ],
      "metadata": {
        "id": "ndYz27-sWFna"
      },
      "execution_count": null,
      "outputs": []
    },
    {
      "cell_type": "code",
      "source": [
        "from langchain.prompts.chat import HumanMessagePromptTemplate, ChatPromptTemplate\n",
        "\n",
        "human_template = HumanMessagePromptTemplate.from_template(\n",
        "    '모든 답변은 200자 길이(공백 포함) 정도를 유지해주세요. ' +\n",
        "    '답변에는 \"옐리\" 이름으로 서명합니다..' +\n",
        "    '{input}'\n",
        "\n",
        "\n",
        ")\n",
        "chat_prompt = ChatPromptTemplate.from_messages([human_template])\n",
        "\n",
        "chat_prompt_value = chat_prompt.format_prompt(\n",
        "    input='안녕하세요 AI, 양자 물리학이 뭘까요?'\n",
        ")\n",
        "chat_prompt_value"
      ],
      "metadata": {
        "id": "lWC-YdGdWFiw"
      },
      "execution_count": null,
      "outputs": []
    },
    {
      "cell_type": "code",
      "source": [
        "messages = chat_prompt_value.to_messages()\n",
        "res = chat(messages)\n",
        "response = res.content\n",
        "\n",
        "print(f\"Length: {len(response)} =============== \")\n",
        "word_list = wrapper.wrap(text=response)\n",
        "\n",
        "for element in word_list:\n",
        "    print(element)"
      ],
      "metadata": {
        "id": "wxiCBnVkbEy0"
      },
      "execution_count": null,
      "outputs": []
    },
    {
      "cell_type": "code",
      "source": [
        "#시스템 메시지와 사용자 입력 메시지 정의\n",
        "messages = [\n",
        "    SystemMessage(content=(\n",
        "        '당신은 도움을 주는 조수입니다. '\n",
        "        '모든 답변은 공백 포함 50자를 유지합니다. '\n",
        "        '메시지에는 \"옐리\" 이름으로 서명합니다..'\n",
        "\n",
        "    )),\n",
        "    chat_prompt.format_prompt(\n",
        "        input='안녕하세요 AI, 수학이 뭘까요?'\n",
        "    ).to_messages()[0]\n",
        "]\n",
        "\n",
        "print('message ==', messages)\n",
        "res = chat(messages)\n",
        "\n",
        "print(f\"Length: {len(res.content)} =============== \")\\\n",
        "\n",
        "response = res.content\n",
        "word_list = wrapper.wrap(text=response)\n",
        "\n",
        "for element in word_list:\n",
        "    print(element)"
      ],
      "metadata": {
        "id": "vbKOHswwbc5n"
      },
      "execution_count": null,
      "outputs": []
    }
  ]
}