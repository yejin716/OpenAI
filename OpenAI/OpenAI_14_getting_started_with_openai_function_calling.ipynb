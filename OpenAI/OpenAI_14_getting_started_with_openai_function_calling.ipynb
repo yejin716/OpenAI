{
  "nbformat": 4,
  "nbformat_minor": 0,
  "metadata": {
    "colab": {
      "provenance": []
    },
    "kernelspec": {
      "name": "python3",
      "display_name": "Python 3"
    },
    "language_info": {
      "name": "python"
    }
  },
  "cells": [
    {
      "cell_type": "code",
      "execution_count": 1,
      "metadata": {
        "colab": {
          "base_uri": "https://localhost:8080/"
        },
        "id": "xbIiA0Lt6PLL",
        "outputId": "8b82801f-5a34-4b00-a362-9909f45e50cf"
      },
      "outputs": [
        {
          "output_type": "stream",
          "name": "stdout",
          "text": [
            "Requirement already satisfied: openai==0.27.8 in /usr/local/lib/python3.10/dist-packages (0.27.8)\n",
            "Requirement already satisfied: requests>=2.20 in /usr/local/lib/python3.10/dist-packages (from openai==0.27.8) (2.31.0)\n",
            "Requirement already satisfied: tqdm in /usr/local/lib/python3.10/dist-packages (from openai==0.27.8) (4.66.4)\n",
            "Requirement already satisfied: aiohttp in /usr/local/lib/python3.10/dist-packages (from openai==0.27.8) (3.9.5)\n",
            "Requirement already satisfied: charset-normalizer<4,>=2 in /usr/local/lib/python3.10/dist-packages (from requests>=2.20->openai==0.27.8) (3.3.2)\n",
            "Requirement already satisfied: idna<4,>=2.5 in /usr/local/lib/python3.10/dist-packages (from requests>=2.20->openai==0.27.8) (3.7)\n",
            "Requirement already satisfied: urllib3<3,>=1.21.1 in /usr/local/lib/python3.10/dist-packages (from requests>=2.20->openai==0.27.8) (2.0.7)\n",
            "Requirement already satisfied: certifi>=2017.4.17 in /usr/local/lib/python3.10/dist-packages (from requests>=2.20->openai==0.27.8) (2024.7.4)\n",
            "Requirement already satisfied: aiosignal>=1.1.2 in /usr/local/lib/python3.10/dist-packages (from aiohttp->openai==0.27.8) (1.3.1)\n",
            "Requirement already satisfied: attrs>=17.3.0 in /usr/local/lib/python3.10/dist-packages (from aiohttp->openai==0.27.8) (23.2.0)\n",
            "Requirement already satisfied: frozenlist>=1.1.1 in /usr/local/lib/python3.10/dist-packages (from aiohttp->openai==0.27.8) (1.4.1)\n",
            "Requirement already satisfied: multidict<7.0,>=4.5 in /usr/local/lib/python3.10/dist-packages (from aiohttp->openai==0.27.8) (6.0.5)\n",
            "Requirement already satisfied: yarl<2.0,>=1.0 in /usr/local/lib/python3.10/dist-packages (from aiohttp->openai==0.27.8) (1.9.4)\n",
            "Requirement already satisfied: async-timeout<5.0,>=4.0 in /usr/local/lib/python3.10/dist-packages (from aiohttp->openai==0.27.8) (4.0.3)\n"
          ]
        }
      ],
      "source": [
        "!pip install openai==0.27.8"
      ]
    },
    {
      "cell_type": "code",
      "source": [
        "import os\n",
        "import openai\n",
        "\n",
        "openai.api_key = 'api key 입력하세요'"
      ],
      "metadata": {
        "id": "wm5p-KWh6Wsj"
      },
      "execution_count": 42,
      "outputs": []
    },
    {
      "cell_type": "code",
      "source": [
        "import json\n",
        "\n",
        "def get_current_weather(location, unit='celsius'): #unit='celsius' >> 셀시우스(온도 (섭씨))\n",
        "    weather_info = {\n",
        "        \"location\" : location,\n",
        "        \"temperature\" : \"24\",\n",
        "        \"unit\" : unit,\n",
        "        \"forecast\" : [\"sunny\", \"rainy\"]\n",
        "\n",
        "    }\n",
        "    return json.dumps(weather_info)"
      ],
      "metadata": {
        "id": "yo-r8evg6Wqj"
      },
      "execution_count": 43,
      "outputs": []
    },
    {
      "cell_type": "code",
      "source": [
        "get_current_weather('seoul')"
      ],
      "metadata": {
        "colab": {
          "base_uri": "https://localhost:8080/",
          "height": 35
        },
        "id": "DrqdzMuX6Wo0",
        "outputId": "8427abe8-70e7-4b13-b750-da7612b84e67"
      },
      "execution_count": 44,
      "outputs": [
        {
          "output_type": "execute_result",
          "data": {
            "text/plain": [
              "'{\"location\": \"seoul\", \"temperature\": \"24\", \"unit\": \"celsius\", \"forecast\": [\"sunny\", \"rainy\"]}'"
            ],
            "application/vnd.google.colaboratory.intrinsic+json": {
              "type": "string"
            }
          },
          "metadata": {},
          "execution_count": 44
        }
      ]
    },
    {
      "cell_type": "code",
      "source": [
        "def get_gps():\n",
        "    return '서울'"
      ],
      "metadata": {
        "id": "aO2rI6986WnB"
      },
      "execution_count": 45,
      "outputs": []
    },
    {
      "cell_type": "code",
      "source": [
        "#함수 호출 dict()\n",
        "\n",
        "available_functions = {\n",
        "    'get_current_weather' : get_current_weather,\n",
        "    'get_location_from_gps' : get_gps\n",
        "}"
      ],
      "metadata": {
        "id": "U1W2kKTR6WlC"
      },
      "execution_count": 46,
      "outputs": []
    },
    {
      "cell_type": "code",
      "source": [
        "available_functions['get_current_weather']('서울')"
      ],
      "metadata": {
        "colab": {
          "base_uri": "https://localhost:8080/",
          "height": 54
        },
        "id": "TB3UCwks7gd7",
        "outputId": "dcb35f0e-9742-4a38-f718-87408f4c01c7"
      },
      "execution_count": 47,
      "outputs": [
        {
          "output_type": "execute_result",
          "data": {
            "text/plain": [
              "'{\"location\": \"\\\\uc11c\\\\uc6b8\", \"temperature\": \"24\", \"unit\": \"celsius\", \"forecast\": [\"sunny\", \"rainy\"]}'"
            ],
            "application/vnd.google.colaboratory.intrinsic+json": {
              "type": "string"
            }
          },
          "metadata": {},
          "execution_count": 47
        }
      ]
    },
    {
      "cell_type": "code",
      "source": [
        "available_functions['get_current_weather']('seoul')\n"
      ],
      "metadata": {
        "colab": {
          "base_uri": "https://localhost:8080/",
          "height": 35
        },
        "id": "Kn_ac-Iz7nZA",
        "outputId": "3701c0a3-7bb5-4718-c3b8-888601e0b3e3"
      },
      "execution_count": 48,
      "outputs": [
        {
          "output_type": "execute_result",
          "data": {
            "text/plain": [
              "'{\"location\": \"seoul\", \"temperature\": \"24\", \"unit\": \"celsius\", \"forecast\": [\"sunny\", \"rainy\"]}'"
            ],
            "application/vnd.google.colaboratory.intrinsic+json": {
              "type": "string"
            }
          },
          "metadata": {},
          "execution_count": 48
        }
      ]
    },
    {
      "cell_type": "code",
      "source": [
        "available_functions['get_location_from_gps']()"
      ],
      "metadata": {
        "colab": {
          "base_uri": "https://localhost:8080/",
          "height": 35
        },
        "id": "A-fs9Vn97qll",
        "outputId": "68d5a0a0-6d51-4c85-fd3e-7145ea1d7db9"
      },
      "execution_count": 49,
      "outputs": [
        {
          "output_type": "execute_result",
          "data": {
            "text/plain": [
              "'서울'"
            ],
            "application/vnd.google.colaboratory.intrinsic+json": {
              "type": "string"
            }
          },
          "metadata": {},
          "execution_count": 49
        }
      ]
    },
    {
      "cell_type": "code",
      "source": [
        "def run_conversation(input_texts):\n",
        "    # 1. convesation + available_funtions (함수를 호출하는 기능) >> gpt\n",
        "    messages = [\n",
        "        {'role' : 'user', 'content' : input_texts}\n",
        "    ]\n",
        "\n",
        "    functions = [\n",
        "        {\n",
        "            \"name\" : \"get_current_weather\",\n",
        "            \"description\" : \"Get the current weather in a given location\",\n",
        "            \"parameters\" : {\n",
        "                \"type\" : \"object\",\n",
        "                \"properties\" : {\n",
        "                    \"location\" : {\n",
        "                        \"type\" : \"string\",\n",
        "                        \"description\" : \"The city and state, e.g. San Francisco, CA\"\n",
        "                    },\n",
        "                    \"unit\":{\n",
        "                        \"type\" : \"string\",\n",
        "                        \"enum\" : [\"celsius\", \"fahrenheit\"] #섭씨/화씨\n",
        "                    },\n",
        "                    },\n",
        "                \"required\" : ['location'],\n",
        "            },\n",
        "        }\n",
        "    ]\n",
        "\n",
        "    response = openai.ChatCompletion.create(\n",
        "        model = 'gpt-3.5-turbo',\n",
        "        messages = messages,\n",
        "        functions = functions,\n",
        "        function_call = 'auto'\n",
        "    )\n",
        "    # print(response)\n",
        "    response_message = response['choices'][0]['message']\n",
        "    # print(response_message)\n",
        "\n",
        "    #function_call : 함수 특징\n",
        "    if response_message.get('function_call'):\n",
        "\n",
        "        #함수 이름과 인자 가져옴\n",
        "        func_name = response_message['function_call']['name']\n",
        "        func_args = json.loads(response_message['function_call']['arguments'])\n",
        "\n",
        "        #response_message : function_call, name, arguments\n",
        "        messages.append(response_message)\n",
        "\n",
        "        #함수 호출 >> 결과값\n",
        "        func_response = available_functions[func_name](\n",
        "            location = func_args.get('location'),\n",
        "            unit = func_args.get('unit'))\n",
        "\n",
        "        #함수 호출 결과 >> 메시지에 추가\n",
        "        messages.append({\n",
        "            \"role\" : \"function\",\n",
        "            \"name\" : func_name,\n",
        "            \"content\" : func_response\n",
        "        })\n",
        "\n",
        "        #역할 : 함수 호출결과는 역할을 function으로 설정\n",
        "        # print(messages)\n",
        "\n",
        "        second_response = openai.ChatCompletion.create(\n",
        "            model = 'gpt-3.5-turbo',\n",
        "            messages = messages,\n",
        "       )\n",
        "        # 사용자 요청사항, 함수 이름 및 인자, 함수 호출 결과\n",
        "        second_response = second_response['choices'][0]['message']\n",
        "        return second_response\n",
        "    else:\n",
        "        return response"
      ],
      "metadata": {
        "id": "XOZldPqM7ySH"
      },
      "execution_count": 52,
      "outputs": []
    },
    {
      "cell_type": "code",
      "source": [
        "run_conversation(\"오늘 날씨는?\")\n",
        "#response"
      ],
      "metadata": {
        "colab": {
          "base_uri": "https://localhost:8080/"
        },
        "id": "Yc6mcqomADRi",
        "outputId": "1d949fdf-7a9e-44ce-b372-c2215e498675"
      },
      "execution_count": 37,
      "outputs": [
        {
          "output_type": "stream",
          "name": "stdout",
          "text": [
            "{\n",
            "  \"id\": \"chatcmpl-9lzWUa7MNazhLLLtvUpb0ezH80zKt\",\n",
            "  \"object\": \"chat.completion\",\n",
            "  \"created\": 1721224938,\n",
            "  \"model\": \"gpt-3.5-turbo-0125\",\n",
            "  \"choices\": [\n",
            "    {\n",
            "      \"index\": 0,\n",
            "      \"message\": {\n",
            "        \"role\": \"assistant\",\n",
            "        \"content\": \"\\uc5b4\\ub290 \\uc9c0\\uc5ed\\uc758 \\ub0a0\\uc528\\ub97c \\uc54c\\uace0 \\uc2f6\\uc73c\\uc2e0\\uac00\\uc694?\"\n",
            "      },\n",
            "      \"logprobs\": null,\n",
            "      \"finish_reason\": \"stop\"\n",
            "    }\n",
            "  ],\n",
            "  \"usage\": {\n",
            "    \"prompt_tokens\": 84,\n",
            "    \"completion_tokens\": 24,\n",
            "    \"total_tokens\": 108\n",
            "  },\n",
            "  \"system_fingerprint\": null\n",
            "}\n"
          ]
        }
      ]
    },
    {
      "cell_type": "code",
      "source": [
        "run_conversation(\"오늘 날씨는?\")\n",
        "# response_message"
      ],
      "metadata": {
        "colab": {
          "base_uri": "https://localhost:8080/"
        },
        "id": "utDvRXo89ayU",
        "outputId": "5c7a27ad-5444-4d16-f008-1ae2177eb11d"
      },
      "execution_count": 35,
      "outputs": [
        {
          "output_type": "stream",
          "name": "stdout",
          "text": [
            "{\n",
            "  \"role\": \"assistant\",\n",
            "  \"content\": \"\\uc5b4\\ub5a4 \\ub3c4\\uc2dc\\uc758 \\ub0a0\\uc528 \\uc815\\ubcf4\\ub97c \\ud655\\uc778\\ud558\\uace0 \\uc2f6\\uc73c\\uc2e0\\uac00\\uc694?\"\n",
            "}\n"
          ]
        }
      ]
    },
    {
      "cell_type": "code",
      "source": [
        "run_conversation(\"How is the weather in Seoul?\")\n",
        "# print(messages)"
      ],
      "metadata": {
        "colab": {
          "base_uri": "https://localhost:8080/"
        },
        "id": "piTicLidAAge",
        "outputId": "0c1272ea-423b-4444-89c9-0d25305e6c9f"
      },
      "execution_count": 51,
      "outputs": [
        {
          "output_type": "stream",
          "name": "stdout",
          "text": [
            "[{'role': 'user', 'content': 'How is the weather in Seoul?'}, <OpenAIObject at 0x7c6cb097bce0> JSON: {\n",
            "  \"role\": \"assistant\",\n",
            "  \"content\": null,\n",
            "  \"function_call\": {\n",
            "    \"name\": \"get_current_weather\",\n",
            "    \"arguments\": \"{\\\"location\\\":\\\"Seoul\\\",\\\"unit\\\":\\\"celsius\\\"}\"\n",
            "  }\n",
            "}, {'role': 'function', 'name': 'get_current_weather', 'content': '{\"location\": \"Seoul\", \"temperature\": \"24\", \"unit\": \"celsius\", \"forecast\": [\"sunny\", \"rainy\"]}'}]\n"
          ]
        }
      ]
    },
    {
      "cell_type": "code",
      "source": [
        "run_conversation(\"How is the weather in Seoul?\")"
      ],
      "metadata": {
        "colab": {
          "base_uri": "https://localhost:8080/"
        },
        "id": "SyHA5xUkDVJy",
        "outputId": "e5b122e1-16f3-4b24-baee-0999f7d16f83"
      },
      "execution_count": 54,
      "outputs": [
        {
          "output_type": "execute_result",
          "data": {
            "text/plain": [
              "<OpenAIObject at 0x7c6cb09192b0> JSON: {\n",
              "  \"role\": \"assistant\",\n",
              "  \"content\": \"The weather in Seoul is currently 24\\u00b0C with a mix of sun and rain.\"\n",
              "}"
            ]
          },
          "metadata": {},
          "execution_count": 54
        }
      ]
    },
    {
      "cell_type": "markdown",
      "source": [
        "Refactoring(기존코드수정)"
      ],
      "metadata": {
        "id": "AntnSKk0DmBJ"
      }
    },
    {
      "cell_type": "code",
      "source": [
        "def run_conversation_2(input_texts):\n",
        "    # 1. convesation + available_funtions (함수를 호출하는 기능) >> gpt\n",
        "    messages = [\n",
        "        {'role' : 'user', 'content' : input_texts}\n",
        "    ]\n",
        "\n",
        "    functions = [\n",
        "        {\n",
        "            \"name\" : \"get_current_weather\",\n",
        "            \"description\" : \"Get the current weather in a given location\",\n",
        "            \"parameters\" : {\n",
        "                \"type\" : \"object\",\n",
        "                \"properties\" : {\n",
        "                    \"location\" : {\n",
        "                        \"type\" : \"string\",\n",
        "                        \"description\" : \"The city and state, e.g. San Francisco, CA\"\n",
        "                    },\n",
        "                    \"unit\":{\n",
        "                        \"type\" : \"string\",\n",
        "                        \"enum\" : [\"celsius\", \"fahrenheit\"] #섭씨/화씨\n",
        "                    },\n",
        "                    },\n",
        "                \"required\" : ['location'],\n",
        "            },\n",
        "        }\n",
        "    ]\n",
        "\n",
        "    response = openai.ChatCompletion.create(\n",
        "        model = 'gpt-3.5-turbo',\n",
        "        messages = messages,\n",
        "        functions = functions,\n",
        "        function_call = 'auto'\n",
        "    )\n",
        "    # print(response)\n",
        "    response_message = response['choices'][0]['message']\n",
        "    # print(response_message)\n",
        "\n",
        "    #function_call : 함수 특징\n",
        "    if response_message.get('function_call'):\n",
        "\n",
        "        #함수 이름과 인자 가져옴\n",
        "        func_name = response_message['function_call']['name']\n",
        "        func_args = json.loads(response_message['function_call']['arguments'])\n",
        "\n",
        "        #함수 호출\n",
        "        # >> 어떤 함수를 호촐되는지 모르기 때문에, 즉 인자를 특정할 수 없다.\n",
        "        func_response = available_functions[func_name](**func_args)\n",
        "\n",
        "        messages.append(response_message)\n",
        "\n",
        "        messages.append({\n",
        "            \"role\" : \"function\",\n",
        "            \"name\" : func_name,\n",
        "            \"content\" : func_response\n",
        "        })\n",
        "\n",
        "        second_response = openai.ChatCompletion.create(\n",
        "            model = 'gpt-3.5-turbo',\n",
        "            messages = messages,\n",
        "       )\n",
        "        # 사용자 요청사항, 함수 이름 및 인자, 함수 호출 결과\n",
        "        second_response = second_response['choices'][0]['message']\n",
        "        return second_response\n",
        "    else:\n",
        "        return response"
      ],
      "metadata": {
        "id": "WZFMPVdADaTy"
      },
      "execution_count": 56,
      "outputs": []
    },
    {
      "cell_type": "code",
      "source": [
        "run_conversation_2(\"How is the weather in Seoul?\")"
      ],
      "metadata": {
        "colab": {
          "base_uri": "https://localhost:8080/"
        },
        "id": "NFqvM8GpEM6T",
        "outputId": "bd7236e6-f807-4c13-a573-c3f25415cf01"
      },
      "execution_count": 57,
      "outputs": [
        {
          "output_type": "execute_result",
          "data": {
            "text/plain": [
              "<OpenAIObject at 0x7c6cb08dc2c0> JSON: {\n",
              "  \"role\": \"assistant\",\n",
              "  \"content\": \"The current weather in Seoul is 24 degrees Celsius with a mix of sunny and rainy conditions.\"\n",
              "}"
            ]
          },
          "metadata": {},
          "execution_count": 57
        }
      ]
    },
    {
      "cell_type": "code",
      "source": [
        "run_conversation('현재 위치는 어디인가요?')"
      ],
      "metadata": {
        "colab": {
          "base_uri": "https://localhost:8080/"
        },
        "id": "ibJ_dQGIEQ__",
        "outputId": "296628c8-e7dd-4adc-b854-c1dc339f1d44"
      },
      "execution_count": 62,
      "outputs": [
        {
          "output_type": "execute_result",
          "data": {
            "text/plain": [
              "<OpenAIObject chat.completion id=chatcmpl-9lzpYVTg37fgiJBPxcBYgQxkZ6Muz at 0x7c6cb07c0bd0> JSON: {\n",
              "  \"id\": \"chatcmpl-9lzpYVTg37fgiJBPxcBYgQxkZ6Muz\",\n",
              "  \"object\": \"chat.completion\",\n",
              "  \"created\": 1721226120,\n",
              "  \"model\": \"gpt-3.5-turbo-0125\",\n",
              "  \"choices\": [\n",
              "    {\n",
              "      \"index\": 0,\n",
              "      \"message\": {\n",
              "        \"role\": \"assistant\",\n",
              "        \"content\": \"\\uc8c4\\uc1a1\\ud569\\ub2c8\\ub2e4. \\ud604\\uc7ac \\uc704\\uce58\\ub97c \\uc54c \\uc218 \\uc5c6\\uc2b5\\ub2c8\\ub2e4. \\uc0ac\\uc6a9\\uc790 \\uc704\\uce58\\ub97c \\uc81c\\uacf5\\ud574 \\uc8fc\\uc2dc\\uac70\\ub098 \\uc6d0\\ud558\\ub294 \\uc704\\uce58\\ub97c \\ub9d0\\uc500\\ud574 \\uc8fc\\uc2dc\\uba74 \\ud574\\ub2f9 \\uc704\\uce58\\uc758 \\ud604\\uc7ac \\ub0a0\\uc528\\ub97c \\uc54c\\ub824\\ub4dc\\ub9b4 \\uc218 \\uc788\\uc2b5\\ub2c8\\ub2e4.\"\n",
              "      },\n",
              "      \"logprobs\": null,\n",
              "      \"finish_reason\": \"stop\"\n",
              "    }\n",
              "  ],\n",
              "  \"usage\": {\n",
              "    \"prompt_tokens\": 85,\n",
              "    \"completion_tokens\": 65,\n",
              "    \"total_tokens\": 150\n",
              "  },\n",
              "  \"system_fingerprint\": null\n",
              "}"
            ]
          },
          "metadata": {},
          "execution_count": 62
        }
      ]
    },
    {
      "cell_type": "code",
      "source": [
        "message = run_conversation_2(\"현재 위치는 어디인가요?\")\n",
        "message.choices[0].message.content"
      ],
      "metadata": {
        "colab": {
          "base_uri": "https://localhost:8080/",
          "height": 35
        },
        "id": "RGZzZKoIEWey",
        "outputId": "0dcadd40-bee7-4907-cbd9-b83a8801929c"
      },
      "execution_count": 64,
      "outputs": [
        {
          "output_type": "execute_result",
          "data": {
            "text/plain": [
              "'죄송합니다. 현재 위치를 알 수 없습니다. 위치를 입력해 주세요.'"
            ],
            "application/vnd.google.colaboratory.intrinsic+json": {
              "type": "string"
            }
          },
          "metadata": {},
          "execution_count": 64
        }
      ]
    },
    {
      "cell_type": "code",
      "source": [
        "message = run_conversation_2(\"서울의 날씨는 어떤가요?\")\n",
        "message.content\n"
      ],
      "metadata": {
        "colab": {
          "base_uri": "https://localhost:8080/",
          "height": 54
        },
        "id": "rBiljdfAEWc5",
        "outputId": "21d778b5-7204-4791-fe08-d572ab888fd2"
      },
      "execution_count": 66,
      "outputs": [
        {
          "output_type": "execute_result",
          "data": {
            "text/plain": [
              "'서울의 현재 온도는 24도입니다. 날씨는 대체로 맑지만 가끔 소나기가 올 수 있습니다.외출 시 우산을 챙기시는 것이 좋을 것 같아요.'"
            ],
            "application/vnd.google.colaboratory.intrinsic+json": {
              "type": "string"
            }
          },
          "metadata": {},
          "execution_count": 66
        }
      ]
    },
    {
      "cell_type": "code",
      "source": [],
      "metadata": {
        "id": "jooVpGINEWaw"
      },
      "execution_count": null,
      "outputs": []
    },
    {
      "cell_type": "code",
      "source": [],
      "metadata": {
        "id": "K66E7zkHEWYm"
      },
      "execution_count": null,
      "outputs": []
    },
    {
      "cell_type": "code",
      "source": [],
      "metadata": {
        "id": "ruXE4qpYEWWS"
      },
      "execution_count": null,
      "outputs": []
    }
  ]
}