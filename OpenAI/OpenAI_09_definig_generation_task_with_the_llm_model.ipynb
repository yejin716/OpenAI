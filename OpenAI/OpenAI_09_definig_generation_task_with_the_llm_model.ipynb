{
  "nbformat": 4,
  "nbformat_minor": 0,
  "metadata": {
    "colab": {
      "provenance": []
    },
    "kernelspec": {
      "name": "python3",
      "display_name": "Python 3"
    },
    "language_info": {
      "name": "python"
    }
  },
  "cells": [
    {
      "cell_type": "code",
      "execution_count": 1,
      "metadata": {
        "id": "OVHoUispgI0s"
      },
      "outputs": [],
      "source": [
        "# 기본 llm 함수\n",
        "# prompt > llm > respond\n",
        "# prompt : text\n",
        "# response : text\n",
        "def llm(prompt):\n",
        "  response = '감사합니다'\n",
        "  return response"
      ]
    },
    {
      "cell_type": "code",
      "source": [
        "llm('안녕')"
      ],
      "metadata": {
        "colab": {
          "base_uri": "https://localhost:8080/",
          "height": 35
        },
        "id": "ZIrTRvrrgU5r",
        "outputId": "06b06d43-d634-4580-cd10-e6db78cb0273"
      },
      "execution_count": 2,
      "outputs": [
        {
          "output_type": "execute_result",
          "data": {
            "text/plain": [
              "'감사합니다'"
            ],
            "application/vnd.google.colaboratory.intrinsic+json": {
              "type": "string"
            }
          },
          "metadata": {},
          "execution_count": 2
        }
      ]
    },
    {
      "cell_type": "code",
      "source": [
        "# 텍스트 생성\n",
        "# >> 입력되는 텍스트에 대한 응답 생성\n",
        "# 예) 맛집 댓글에 대한 답글 생성\n",
        "\n",
        "def generate_reply(input_text):\n",
        "    output = llm(input_text)\n",
        "    return output"
      ],
      "metadata": {
        "id": "R4ncl0bEgUya"
      },
      "execution_count": 3,
      "outputs": []
    },
    {
      "cell_type": "code",
      "source": [
        "generate_reply('사랑해요')"
      ],
      "metadata": {
        "colab": {
          "base_uri": "https://localhost:8080/",
          "height": 35
        },
        "id": "i6HZPs4agUws",
        "outputId": "4004ddd7-9c19-4bd0-a8be-f591dcbdbd51"
      },
      "execution_count": 4,
      "outputs": [
        {
          "output_type": "execute_result",
          "data": {
            "text/plain": [
              "'감사합니다'"
            ],
            "application/vnd.google.colaboratory.intrinsic+json": {
              "type": "string"
            }
          },
          "metadata": {},
          "execution_count": 4
        }
      ]
    },
    {
      "cell_type": "code",
      "source": [
        "def llm_neg(prompt):\n",
        "  response = '그러지 마세요'\n",
        "  return response"
      ],
      "metadata": {
        "id": "12JaTXkogUua"
      },
      "execution_count": 5,
      "outputs": []
    },
    {
      "cell_type": "code",
      "source": [
        "def generate_reply_neg(input_text):\n",
        "    output = llm_neg(input_text)\n",
        "    return output"
      ],
      "metadata": {
        "id": "VX-QfAq-hVCh"
      },
      "execution_count": 6,
      "outputs": []
    },
    {
      "cell_type": "code",
      "source": [
        "generate_reply_neg('넌 해고야')"
      ],
      "metadata": {
        "colab": {
          "base_uri": "https://localhost:8080/",
          "height": 35
        },
        "id": "0MN1ZQDWhZ55",
        "outputId": "15fff585-2e20-4809-892f-89c9ca77a4f0"
      },
      "execution_count": 7,
      "outputs": [
        {
          "output_type": "execute_result",
          "data": {
            "text/plain": [
              "'그러지 마세요'"
            ],
            "application/vnd.google.colaboratory.intrinsic+json": {
              "type": "string"
            }
          },
          "metadata": {},
          "execution_count": 7
        }
      ]
    },
    {
      "cell_type": "code",
      "source": [
        "comments = [\n",
        "    \"여기 음식은 언제 와도 실망시키지 않아요. 최고!\",\n",
        "    \"여기 라멘 진짜 ㄹㅇ 맛있어요. 국물이 진하고 면도 쫄깃해서 너무 좋았습니다.\",\n",
        "    \"진짜 깔끔하고, 맛도 좋았어요. 추천합니다!\",\n",
        "    \"왜 이렇게 유명한지 모르겠음ㅋㅋ ㄹㅈㄷ 맛없음\",\n",
        "    \"인생 타르트를 여기서 만났어요:하트2: 달지 않고 고소해서 정말 추천합니다!\",\n",
        "    \"메뉴 설명을 너무 친절하게 해주셔서 고르기 수월했어요.\",\n",
        "    \"사진과 음식이 너무 달라서 실망했습니다.\",\n",
        "    \"주변에 추천하려고 사진도 많이 찍었어요. 좋아요!\",\n",
        "    \"솔직히...? 맛이 그닥이에요. 리뷰랑 너무 다르네.\",\n",
        "    \"진짜 개꿀맛..ㅠ 다른곳 안가.\"\n",
        "]"
      ],
      "metadata": {
        "id": "-MJ9d4QFhcqW"
      },
      "execution_count": 8,
      "outputs": []
    },
    {
      "cell_type": "code",
      "source": [
        "for comment in comments:\n",
        "\n",
        "    reply = generate_reply(comment)\n",
        "\n",
        "    print('comment ', comment)\n",
        "    print('reply: ', reply)\n",
        "    print('--'*50)"
      ],
      "metadata": {
        "colab": {
          "base_uri": "https://localhost:8080/"
        },
        "id": "bF6EB7hQhsoy",
        "outputId": "19473948-2825-4418-b727-9f036226d691"
      },
      "execution_count": 9,
      "outputs": [
        {
          "output_type": "stream",
          "name": "stdout",
          "text": [
            "comment  여기 음식은 언제 와도 실망시키지 않아요. 최고!\n",
            "reply:  감사합니다\n",
            "----------------------------------------------------------------------------------------------------\n",
            "comment  여기 라멘 진짜 ㄹㅇ 맛있어요. 국물이 진하고 면도 쫄깃해서 너무 좋았습니다.\n",
            "reply:  감사합니다\n",
            "----------------------------------------------------------------------------------------------------\n",
            "comment  진짜 깔끔하고, 맛도 좋았어요. 추천합니다!\n",
            "reply:  감사합니다\n",
            "----------------------------------------------------------------------------------------------------\n",
            "comment  왜 이렇게 유명한지 모르겠음ㅋㅋ ㄹㅈㄷ 맛없음\n",
            "reply:  감사합니다\n",
            "----------------------------------------------------------------------------------------------------\n",
            "comment  인생 타르트를 여기서 만났어요:하트2: 달지 않고 고소해서 정말 추천합니다!\n",
            "reply:  감사합니다\n",
            "----------------------------------------------------------------------------------------------------\n",
            "comment  메뉴 설명을 너무 친절하게 해주셔서 고르기 수월했어요.\n",
            "reply:  감사합니다\n",
            "----------------------------------------------------------------------------------------------------\n",
            "comment  사진과 음식이 너무 달라서 실망했습니다.\n",
            "reply:  감사합니다\n",
            "----------------------------------------------------------------------------------------------------\n",
            "comment  주변에 추천하려고 사진도 많이 찍었어요. 좋아요!\n",
            "reply:  감사합니다\n",
            "----------------------------------------------------------------------------------------------------\n",
            "comment  솔직히...? 맛이 그닥이에요. 리뷰랑 너무 다르네.\n",
            "reply:  감사합니다\n",
            "----------------------------------------------------------------------------------------------------\n",
            "comment  진짜 개꿀맛..ㅠ 다른곳 안가.\n",
            "reply:  감사합니다\n",
            "----------------------------------------------------------------------------------------------------\n"
          ]
        }
      ]
    },
    {
      "cell_type": "markdown",
      "source": [
        "ChatTask"
      ],
      "metadata": {
        "id": "8rn7KTyViWDZ"
      }
    },
    {
      "cell_type": "code",
      "source": [
        "def llm(prompt):\n",
        "    response = '안녕하세요. 무엇을 도와드릴까요?'\n",
        "    return response"
      ],
      "metadata": {
        "id": "gaiU5u-Ihsmo"
      },
      "execution_count": 10,
      "outputs": []
    },
    {
      "cell_type": "code",
      "source": [
        "def chat_with_user(user_msg):\n",
        "    ai_msg = llm(user_msg)\n",
        "    return ai_msg\n",
        "\n",
        "#user_msg를 받아서 ai_msg로 출력"
      ],
      "metadata": {
        "id": "_bRWFiiShsi5"
      },
      "execution_count": 11,
      "outputs": []
    },
    {
      "cell_type": "code",
      "source": [
        "while True:\n",
        "    user_msg = input(\"user >> \")\n",
        "    if user_msg.lower() == 'quit':\n",
        "        break #정지조건\n",
        "\n",
        "    ai_msg = chat_with_user(user_msg)\n",
        "\n",
        "    print(f'AI >> {ai_msg}')"
      ],
      "metadata": {
        "colab": {
          "base_uri": "https://localhost:8080/"
        },
        "id": "7XHGzlkXhsg4",
        "outputId": "13018486-65fe-4fc0-f1bb-389241c29f7c"
      },
      "execution_count": 12,
      "outputs": [
        {
          "name": "stdout",
          "output_type": "stream",
          "text": [
            "user >> 나는 너를 생각해\n",
            "AI >> 안녕하세요. 무엇을 도와드릴까요?\n",
            "user >> 하이\n",
            "AI >> 안녕하세요. 무엇을 도와드릴까요?\n",
            "user >> quit\n"
          ]
        }
      ]
    },
    {
      "cell_type": "code",
      "source": [],
      "metadata": {
        "id": "M1sau4Jdhsd4"
      },
      "execution_count": null,
      "outputs": []
    }
  ]
}