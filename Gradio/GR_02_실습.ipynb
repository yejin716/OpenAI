{
 "cells": [
  {
   "cell_type": "code",
   "execution_count": 6,
   "metadata": {},
   "outputs": [],
   "source": [
    "# !pip install gradio==4.0.2"
   ]
  },
  {
   "cell_type": "markdown",
   "metadata": {},
   "source": [
    "Gradio 기본실습_입출력 제어하기"
   ]
  },
  {
   "cell_type": "code",
   "execution_count": 7,
   "metadata": {},
   "outputs": [],
   "source": [
    "#bmi 계산기 만들기 \n",
    "\n",
    "def bmi(name, height, weight):\n",
    "    bmi_val = round(weight / ((height/100) ** 2), 2)\n",
    "    return (f'안녕하세요. {name}님! 당신의 bmi는 {bmi_val}입니다')"
   ]
  },
  {
   "cell_type": "code",
   "execution_count": 8,
   "metadata": {},
   "outputs": [
    {
     "data": {
      "text/plain": [
       "'안녕하세요. 이영희님! 당신의 bmi는 16.53입니다'"
      ]
     },
     "execution_count": 8,
     "metadata": {},
     "output_type": "execute_result"
    }
   ],
   "source": [
    "bmi('이영희', 165, 45)"
   ]
  },
  {
   "cell_type": "code",
   "execution_count": 9,
   "metadata": {},
   "outputs": [
    {
     "name": "stdout",
     "output_type": "stream",
     "text": [
      "Running on local URL:  http://127.0.0.1:7869\n",
      "\n",
      "To create a public link, set `share=True` in `launch()`.\n"
     ]
    },
    {
     "data": {
      "text/html": [
       "<div><iframe src=\"http://127.0.0.1:7869/\" width=\"100%\" height=\"500\" allow=\"autoplay; camera; microphone; clipboard-read; clipboard-write;\" frameborder=\"0\" allowfullscreen></iframe></div>"
      ],
      "text/plain": [
       "<IPython.core.display.HTML object>"
      ]
     },
     "metadata": {},
     "output_type": "display_data"
    },
    {
     "data": {
      "text/plain": []
     },
     "execution_count": 9,
     "metadata": {},
     "output_type": "execute_result"
    }
   ],
   "source": [
    "#bmi 계산기 1 - input 여러개 다루기 \n",
    "\n",
    "import gradio as gr\n",
    "\n",
    "def bmi(name, height, weight):\n",
    "    bmi_val = round(weight / ((height/100) ** 2), 2)\n",
    "    return (f'안녕하세요. {name}님! 당신의 bmi는 {bmi_val}입니다')\n",
    "\n",
    "interface = gr.Interface(\n",
    "    fn = bmi,\n",
    "    inputs = ['text','number','number'],\n",
    "    outputs = 'text'\n",
    ")\n",
    "\n",
    "interface.launch()"
   ]
  },
  {
   "cell_type": "code",
   "execution_count": 10,
   "metadata": {},
   "outputs": [
    {
     "name": "stdout",
     "output_type": "stream",
     "text": [
      "Running on local URL:  http://127.0.0.1:7870\n",
      "\n",
      "To create a public link, set `share=True` in `launch()`.\n"
     ]
    },
    {
     "data": {
      "text/html": [
       "<div><iframe src=\"http://127.0.0.1:7870/\" width=\"100%\" height=\"500\" allow=\"autoplay; camera; microphone; clipboard-read; clipboard-write;\" frameborder=\"0\" allowfullscreen></iframe></div>"
      ],
      "text/plain": [
       "<IPython.core.display.HTML object>"
      ]
     },
     "metadata": {},
     "output_type": "display_data"
    },
    {
     "data": {
      "text/plain": []
     },
     "execution_count": 10,
     "metadata": {},
     "output_type": "execute_result"
    }
   ],
   "source": [
    "#bmi 계산기 3 - componets 사용하기 \n",
    "\n",
    "import gradio as gr \n",
    "\n",
    "def bmi(name, height, weight):\n",
    "    bmi_val = round(weight / ((height/100) ** 2), 2) \n",
    "    emotion = \"\"\n",
    "    if bmi_val > 23:\n",
    "        emotion = '😭'\n",
    "    else:\n",
    "        emotion = '😊'\n",
    "        \n",
    "    return (f'안녕하세요. {name}님! 당신의 bmi는 {bmi_val}입니다.', emotion)\n",
    "\n",
    "interface = gr.Interface(\n",
    "    fn=bmi,\n",
    "    inputs=['text', gr.Slider(0,300, label='키(cm)'), gr.Slider(0, 150, label='몸무게(kg)')],\n",
    "    outputs = ['text', 'text']\n",
    ")\n",
    "interface.launch()"
   ]
  },
  {
   "cell_type": "code",
   "execution_count": 11,
   "metadata": {},
   "outputs": [
    {
     "name": "stdout",
     "output_type": "stream",
     "text": [
      "IMPORTANT: You are using gradio version 4.0.2, however version 4.29.0 is available, please upgrade.\n",
      "--------\n",
      "Running on local URL:  http://127.0.0.1:7871\n",
      "\n",
      "To create a public link, set `share=True` in `launch()`.\n"
     ]
    },
    {
     "data": {
      "text/html": [
       "<div><iframe src=\"http://127.0.0.1:7871/\" width=\"100%\" height=\"500\" allow=\"autoplay; camera; microphone; clipboard-read; clipboard-write;\" frameborder=\"0\" allowfullscreen></iframe></div>"
      ],
      "text/plain": [
       "<IPython.core.display.HTML object>"
      ]
     },
     "metadata": {},
     "output_type": "display_data"
    },
    {
     "data": {
      "text/plain": []
     },
     "execution_count": 11,
     "metadata": {},
     "output_type": "execute_result"
    }
   ],
   "source": [
    "#bmi 계산기 4 - checkbox components 사용하기 \n",
    "\n",
    "import gradio as gr \n",
    "\n",
    "def bmi(name, height, weight, diet):\n",
    "    bmi_val = round(weight / ((height/100) ** 2), 2) \n",
    "    emotion = \"\"\n",
    "    if bmi_val > 23:\n",
    "        emotion = '😭'\n",
    "    else:\n",
    "        emotion = '😊'\n",
    "        \n",
    "    if diet:\n",
    "        diet = '다이어트 중'\n",
    "    else:\n",
    "        diet = '살찌는 중...'\n",
    "        \n",
    "    return (f'안녕하세요. {name}님! 당신의 bmi는 {bmi_val}입니다.', emotion, diet)\n",
    "\n",
    "\n",
    "interface = gr.Interface(\n",
    "    fn=bmi,\n",
    "    inputs=['text',\n",
    "            gr.Slider(0, 300, label='키(cm)'),\n",
    "            gr.Slider(0, 150, label='몸무게(kg)'),\n",
    "            gr.Checkbox(label='다이어트 여부')],\n",
    "    outputs= ['text','text','text']\n",
    ")\n",
    "interface.launch()"
   ]
  },
  {
   "cell_type": "code",
   "execution_count": 12,
   "metadata": {},
   "outputs": [
    {
     "name": "stdout",
     "output_type": "stream",
     "text": [
      "IMPORTANT: You are using gradio version 4.0.2, however version 4.29.0 is available, please upgrade.\n",
      "--------\n",
      "Running on local URL:  http://127.0.0.1:7872\n",
      "\n",
      "To create a public link, set `share=True` in `launch()`.\n"
     ]
    },
    {
     "data": {
      "text/html": [
       "<div><iframe src=\"http://127.0.0.1:7872/\" width=\"100%\" height=\"500\" allow=\"autoplay; camera; microphone; clipboard-read; clipboard-write;\" frameborder=\"0\" allowfullscreen></iframe></div>"
      ],
      "text/plain": [
       "<IPython.core.display.HTML object>"
      ]
     },
     "metadata": {},
     "output_type": "display_data"
    },
    {
     "name": "stdout",
     "output_type": "stream",
     "text": [
      "IMPORTANT: You are using gradio version 4.0.2, however version 4.29.0 is available, please upgrade.\n",
      "--------\n"
     ]
    },
    {
     "data": {
      "text/plain": []
     },
     "execution_count": 12,
     "metadata": {},
     "output_type": "execute_result"
    }
   ],
   "source": [
    "# BMI 계산기 4 - flag 사용\n",
    "\n",
    "import gradio as gr\n",
    "\n",
    "def bmi(name, height, weight, diet):\n",
    "    bmi_val = round(weight / ((height/100) ** 2), 2)\n",
    "    emotion=\"\"\n",
    "    if bmi_val > 23:\n",
    "        emotion = '😭'\n",
    "    else:\n",
    "        emotion = '😊'\n",
    "\n",
    "    if diet:\n",
    "        diet = \"다이어트 중\"\n",
    "    else:\n",
    "        diet = '살찌는 중....'\n",
    "\n",
    "    return (f'안녕하세요. {name}님! 당신의 BMI는 {bmi_val}입니다.', emotion, diet)\n",
    "\n",
    "interface = gr.Interface(\n",
    "    fn=bmi,\n",
    "    inputs=['text',\n",
    "            gr.Slider(0, 300, label='키(cm)'),\n",
    "            gr.Slider(0, 150, label='몸무게(kg)'),\n",
    "            gr.Checkbox(label='다이어트 여부')\n",
    "\n",
    "            ],\n",
    "    outputs = ['text','text','text'],\n",
    "    flagging_options = ['good', 'bad', 'error'],\n",
    "    description = '문제가 생기면 flag를 누르세요',\n",
    "    examples = [['이영희', 160, 50, False], ['카리나', 165, 45, True]],\n",
    ")\n",
    "interface.launch()"
   ]
  },
  {
   "cell_type": "markdown",
   "metadata": {},
   "source": [
    "Gradio로 UI꾸미기"
   ]
  },
  {
   "cell_type": "code",
   "execution_count": 13,
   "metadata": {},
   "outputs": [
    {
     "name": "stdout",
     "output_type": "stream",
     "text": [
      "Running on local URL:  http://127.0.0.1:7873\n",
      "\n",
      "Thanks for being a Gradio user! If you have questions or feedback, please join our Discord server and chat with us: https://discord.gg/feTf9x3ZSB\n",
      "\n",
      "To create a public link, set `share=True` in `launch()`.\n"
     ]
    },
    {
     "data": {
      "text/html": [
       "<div><iframe src=\"http://127.0.0.1:7873/\" width=\"100%\" height=\"500\" allow=\"autoplay; camera; microphone; clipboard-read; clipboard-write;\" frameborder=\"0\" allowfullscreen></iframe></div>"
      ],
      "text/plain": [
       "<IPython.core.display.HTML object>"
      ]
     },
     "metadata": {},
     "output_type": "display_data"
    },
    {
     "data": {
      "text/plain": []
     },
     "execution_count": 13,
     "metadata": {},
     "output_type": "execute_result"
    }
   ],
   "source": [
    "interface = gr.Interface(\n",
    "    fn = bmi,\n",
    "    inputs = ['text',\n",
    "              gr.Slider(1, 300, label='키(cm)'),\n",
    "              gr.Slider(1,150, label='몸무게(kg)'),\n",
    "              gr.Checkbox(label='다이어트 여부'),],\n",
    "    outputs = ['text','text','text'],\n",
    "    description = '문제가 생기면 flag를 누르세요',\n",
    "    examples = [['이영희', 160, 50, False], ['카리나', 165, 45, True]],\n",
    "    flagging_options=['good','bad','error'],\n",
    "    title = 'BMI계산기',\n",
    "    live = True,\n",
    "    theme = gr.themes.Soft()\n",
    ")\n",
    "interface.launch()"
   ]
  },
  {
   "cell_type": "code",
   "execution_count": 14,
   "metadata": {},
   "outputs": [
    {
     "name": "stdout",
     "output_type": "stream",
     "text": [
      "IMPORTANT: You are using gradio version 4.0.2, however version 4.29.0 is available, please upgrade.\n",
      "--------\n",
      "INFO:     127.0.0.1:49780 - \"GET /assets/BlockTitle-7572070c.js HTTP/1.1\" 200 OK\n",
      "Running on local URL:  http://127.0.0.1:7874\n",
      "\n",
      "To create a public link, set `share=True` in `launch()`.\n"
     ]
    },
    {
     "data": {
      "text/html": [
       "<div><iframe src=\"http://127.0.0.1:7874/\" width=\"100%\" height=\"500\" allow=\"autoplay; camera; microphone; clipboard-read; clipboard-write;\" frameborder=\"0\" allowfullscreen></iframe></div>"
      ],
      "text/plain": [
       "<IPython.core.display.HTML object>"
      ]
     },
     "metadata": {},
     "output_type": "display_data"
    },
    {
     "data": {
      "text/plain": []
     },
     "execution_count": 14,
     "metadata": {},
     "output_type": "execute_result"
    }
   ],
   "source": [
    "interface = gr.Interface(\n",
    "    fn=bmi,\n",
    "    inputs=['text',\n",
    "            gr.Slider(1, 300, label='키(cm)'),\n",
    "            gr.Slider(1, 150, label='몸무게(kg)'),\n",
    "            gr.Checkbox(label='다이어트 여부'),\n",
    "\n",
    "            ],\n",
    "    outputs = ['text','text','text'],\n",
    "    description='문제가 생기면 Flag 를 누르세요.',\n",
    "    examples = [['이영희', 160, 50, False], ['카리나', 165, 45, True]],\n",
    "    flagging_options=['good','bad','error'],\n",
    "    title='BMI 계산기',\n",
    "    # live=True,\n",
    "    # theme=gr.themes.Soft()\n",
    "    theme='gstaff/sketch'\n",
    ")\n",
    "\n",
    "interface.launch()"
   ]
  },
  {
   "cell_type": "markdown",
   "metadata": {},
   "source": [
    "사용자 정의 테마 활용 "
   ]
  },
  {
   "cell_type": "code",
   "execution_count": 15,
   "metadata": {},
   "outputs": [
    {
     "name": "stdout",
     "output_type": "stream",
     "text": [
      "IMPORTANT: You are using gradio version 4.0.2, however version 4.29.0 is available, please upgrade.\n",
      "--------\n"
     ]
    },
    {
     "name": "stdout",
     "output_type": "stream",
     "text": [
      "Running on local URL:  http://127.0.0.1:7875\n",
      "IMPORTANT: You are using gradio version 4.0.2, however version 4.29.0 is available, please upgrade.\n",
      "--------\n",
      "\n",
      "To create a public link, set `share=True` in `launch()`.\n"
     ]
    },
    {
     "data": {
      "text/html": [
       "<div><iframe src=\"http://127.0.0.1:7875/\" width=\"100%\" height=\"500\" allow=\"autoplay; camera; microphone; clipboard-read; clipboard-write;\" frameborder=\"0\" allowfullscreen></iframe></div>"
      ],
      "text/plain": [
       "<IPython.core.display.HTML object>"
      ]
     },
     "metadata": {},
     "output_type": "display_data"
    },
    {
     "data": {
      "text/plain": []
     },
     "execution_count": 15,
     "metadata": {},
     "output_type": "execute_result"
    },
    {
     "name": "stdout",
     "output_type": "stream",
     "text": [
      "IMPORTANT: You are using gradio version 4.0.2, however version 4.29.0 is available, please upgrade.\n",
      "--------\n",
      "Requirement already satisfied: gradio==4.0.2 in d:\\anaconda\\lib\\site-packages (4.0.2)\n",
      "Requirement already satisfied: aiofiles<24.0,>=22.0 in d:\\anaconda\\lib\\site-packages (from gradio==4.0.2) (23.2.1)\n",
      "Requirement already satisfied: altair<6.0,>=4.2.0 in d:\\anaconda\\lib\\site-packages (from gradio==4.0.2) (5.0.1)\n",
      "Requirement already satisfied: fastapi in d:\\anaconda\\lib\\site-packages (from gradio==4.0.2) (0.111.0)\n",
      "Requirement already satisfied: ffmpy in d:\\anaconda\\lib\\site-packages (from gradio==4.0.2) (0.3.2)\n",
      "Requirement already satisfied: gradio-client==0.7.0 in d:\\anaconda\\lib\\site-packages (from gradio==4.0.2) (0.7.0)\n",
      "Requirement already satisfied: httpx in d:\\anaconda\\lib\\site-packages (from gradio==4.0.2) (0.26.0)\n",
      "Requirement already satisfied: huggingface-hub>=0.14.0 in d:\\anaconda\\lib\\site-packages (from gradio==4.0.2) (0.23.4)\n",
      "Requirement already satisfied: importlib-resources<7.0,>=1.3 in d:\\anaconda\\lib\\site-packages (from gradio==4.0.2) (6.4.0)\n",
      "Requirement already satisfied: jinja2<4.0 in d:\\anaconda\\lib\\site-packages (from gradio==4.0.2) (3.1.3)\n",
      "Requirement already satisfied: markupsafe~=2.0 in d:\\anaconda\\lib\\site-packages (from gradio==4.0.2) (2.1.3)\n",
      "Requirement already satisfied: matplotlib~=3.0 in d:\\anaconda\\lib\\site-packages (from gradio==4.0.2) (3.7.3)\n",
      "Requirement already satisfied: numpy~=1.0 in d:\\anaconda\\lib\\site-packages (from gradio==4.0.2) (1.24.3)\n",
      "Requirement already satisfied: orjson~=3.0 in d:\\anaconda\\lib\\site-packages (from gradio==4.0.2) (3.10.5)\n",
      "Requirement already satisfied: packaging in d:\\anaconda\\lib\\site-packages (from gradio==4.0.2) (23.1)\n",
      "Requirement already satisfied: pandas<3.0,>=1.0 in d:\\anaconda\\lib\\site-packages (from gradio==4.0.2) (2.2.2)\n",
      "Requirement already satisfied: pillow<11.0,>=8.0 in d:\\anaconda\\lib\\site-packages (from gradio==4.0.2) (10.2.0)\n",
      "Requirement already satisfied: pydantic>=2.0 in d:\\anaconda\\lib\\site-packages (from gradio==4.0.2) (2.7.4)\n",
      "Requirement already satisfied: pydub in d:\\anaconda\\lib\\site-packages (from gradio==4.0.2) (0.25.1)\n",
      "Requirement already satisfied: python-multipart in d:\\anaconda\\lib\\site-packages (from gradio==4.0.2) (0.0.9)\n",
      "Requirement already satisfied: pyyaml<7.0,>=5.0 in d:\\anaconda\\lib\\site-packages (from gradio==4.0.2) (6.0.1)\n",
      "Requirement already satisfied: requests~=2.0 in d:\\anaconda\\lib\\site-packages (from gradio==4.0.2) (2.31.0)\n",
      "Requirement already satisfied: semantic-version~=2.0 in d:\\anaconda\\lib\\site-packages (from gradio==4.0.2) (2.10.0)\n",
      "Requirement already satisfied: tomlkit==0.12.0 in d:\\anaconda\\lib\\site-packages (from gradio==4.0.2) (0.12.0)\n",
      "Requirement already satisfied: typer<1.0,>=0.9 in d:\\anaconda\\lib\\site-packages (from typer[all]<1.0,>=0.9->gradio==4.0.2) (0.12.3)\n",
      "Requirement already satisfied: typing-extensions~=4.0 in d:\\anaconda\\lib\\site-packages (from gradio==4.0.2) (4.9.0)\n",
      "Requirement already satisfied: uvicorn>=0.14.0 in d:\\anaconda\\lib\\site-packages (from gradio==4.0.2) (0.30.1)\n",
      "Requirement already satisfied: websockets<12.0,>=10.0 in d:\\anaconda\\lib\\site-packages (from gradio==4.0.2) (11.0.3)\n",
      "Requirement already satisfied: fsspec in d:\\anaconda\\lib\\site-packages (from gradio-client==0.7.0->gradio==4.0.2) (2023.10.0)\n",
      "Requirement already satisfied: jsonschema>=3.0 in d:\\anaconda\\lib\\site-packages (from altair<6.0,>=4.2.0->gradio==4.0.2) (4.19.2)\n",
      "Requirement already satisfied: toolz in d:\\anaconda\\lib\\site-packages (from altair<6.0,>=4.2.0->gradio==4.0.2) (0.12.0)\n",
      "Requirement already satisfied: filelock in d:\\anaconda\\lib\\site-packages (from huggingface-hub>=0.14.0->gradio==4.0.2) (3.13.1)\n",
      "Requirement already satisfied: tqdm>=4.42.1 in d:\\anaconda\\lib\\site-packages (from huggingface-hub>=0.14.0->gradio==4.0.2) (4.65.0)\n",
      "Requirement already satisfied: contourpy>=1.0.1 in d:\\anaconda\\lib\\site-packages (from matplotlib~=3.0->gradio==4.0.2) (1.2.0)\n",
      "Requirement already satisfied: cycler>=0.10 in d:\\anaconda\\lib\\site-packages (from matplotlib~=3.0->gradio==4.0.2) (0.11.0)\n",
      "Requirement already satisfied: fonttools>=4.22.0 in d:\\anaconda\\lib\\site-packages (from matplotlib~=3.0->gradio==4.0.2) (4.25.0)\n",
      "Requirement already satisfied: kiwisolver>=1.0.1 in d:\\anaconda\\lib\\site-packages (from matplotlib~=3.0->gradio==4.0.2) (1.4.4)\n",
      "Requirement already satisfied: pyparsing>=2.3.1 in d:\\anaconda\\lib\\site-packages (from matplotlib~=3.0->gradio==4.0.2) (3.0.9)\n",
      "Requirement already satisfied: python-dateutil>=2.7 in d:\\anaconda\\lib\\site-packages (from matplotlib~=3.0->gradio==4.0.2) (2.8.2)\n",
      "Requirement already satisfied: pytz>=2020.1 in d:\\anaconda\\lib\\site-packages (from pandas<3.0,>=1.0->gradio==4.0.2) (2023.3.post1)\n",
      "Requirement already satisfied: tzdata>=2022.7 in d:\\anaconda\\lib\\site-packages (from pandas<3.0,>=1.0->gradio==4.0.2) (2023.3)\n",
      "Requirement already satisfied: annotated-types>=0.4.0 in d:\\anaconda\\lib\\site-packages (from pydantic>=2.0->gradio==4.0.2) (0.7.0)\n",
      "Requirement already satisfied: pydantic-core==2.18.4 in d:\\anaconda\\lib\\site-packages (from pydantic>=2.0->gradio==4.0.2) (2.18.4)\n",
      "Requirement already satisfied: charset-normalizer<4,>=2 in d:\\anaconda\\lib\\site-packages (from requests~=2.0->gradio==4.0.2) (2.0.4)\n",
      "Requirement already satisfied: idna<4,>=2.5 in d:\\anaconda\\lib\\site-packages (from requests~=2.0->gradio==4.0.2) (3.4)\n",
      "Requirement already satisfied: urllib3<3,>=1.21.1 in d:\\anaconda\\lib\\site-packages (from requests~=2.0->gradio==4.0.2) (2.0.7)\n",
      "Requirement already satisfied: certifi>=2017.4.17 in d:\\anaconda\\lib\\site-packages (from requests~=2.0->gradio==4.0.2) (2024.6.2)\n",
      "Requirement already satisfied: click>=8.0.0 in d:\\anaconda\\lib\\site-packages (from typer<1.0,>=0.9->typer[all]<1.0,>=0.9->gradio==4.0.2) (8.1.7)\n",
      "Requirement already satisfied: shellingham>=1.3.0 in d:\\anaconda\\lib\\site-packages (from typer<1.0,>=0.9->typer[all]<1.0,>=0.9->gradio==4.0.2) (1.5.4)\n",
      "Requirement already satisfied: rich>=10.11.0 in d:\\anaconda\\lib\\site-packages (from typer<1.0,>=0.9->typer[all]<1.0,>=0.9->gradio==4.0.2) (13.3.5)\n",
      "Requirement already satisfied: h11>=0.8 in d:\\anaconda\\lib\\site-packages (from uvicorn>=0.14.0->gradio==4.0.2) (0.14.0)\n",
      "Requirement already satisfied: starlette<0.38.0,>=0.37.2 in d:\\anaconda\\lib\\site-packages (from fastapi->gradio==4.0.2) (0.37.2)\n",
      "Requirement already satisfied: fastapi-cli>=0.0.2 in d:\\anaconda\\lib\\site-packages (from fastapi->gradio==4.0.2) (0.0.4)\n",
      "Requirement already satisfied: ujson!=4.0.2,!=4.1.0,!=4.2.0,!=4.3.0,!=5.0.0,!=5.1.0,>=4.0.1 in d:\\anaconda\\lib\\site-packages (from fastapi->gradio==4.0.2) (5.4.0)\n",
      "Requirement already satisfied: email_validator>=2.0.0 in d:\\anaconda\\lib\\site-packages (from fastapi->gradio==4.0.2) (2.2.0)\n",
      "Requirement already satisfied: anyio in d:\\anaconda\\lib\\site-packages (from httpx->gradio==4.0.2) (4.2.0)\n",
      "Requirement already satisfied: httpcore==1.* in d:\\anaconda\\lib\\site-packages (from httpx->gradio==4.0.2) (1.0.2)\n",
      "Requirement already satisfied: sniffio in d:\\anaconda\\lib\\site-packages (from httpx->gradio==4.0.2) (1.3.0)\n",
      "Requirement already satisfied: colorama in d:\\anaconda\\lib\\site-packages (from click>=8.0.0->typer<1.0,>=0.9->typer[all]<1.0,>=0.9->gradio==4.0.2) (0.4.6)\n",
      "Requirement already satisfied: dnspython>=2.0.0 in d:\\anaconda\\lib\\site-packages (from email_validator>=2.0.0->fastapi->gradio==4.0.2) (2.6.1)\n",
      "Requirement already satisfied: attrs>=22.2.0 in d:\\anaconda\\lib\\site-packages (from jsonschema>=3.0->altair<6.0,>=4.2.0->gradio==4.0.2) (23.2.0)\n",
      "Requirement already satisfied: jsonschema-specifications>=2023.03.6 in d:\\anaconda\\lib\\site-packages (from jsonschema>=3.0->altair<6.0,>=4.2.0->gradio==4.0.2) (2023.7.1)\n",
      "Requirement already satisfied: referencing>=0.28.4 in d:\\anaconda\\lib\\site-packages (from jsonschema>=3.0->altair<6.0,>=4.2.0->gradio==4.0.2) (0.30.2)\n",
      "Requirement already satisfied: rpds-py>=0.7.1 in d:\\anaconda\\lib\\site-packages (from jsonschema>=3.0->altair<6.0,>=4.2.0->gradio==4.0.2) (0.10.6)\n",
      "Requirement already satisfied: six>=1.5 in d:\\anaconda\\lib\\site-packages (from python-dateutil>=2.7->matplotlib~=3.0->gradio==4.0.2) (1.16.0)\n",
      "Requirement already satisfied: markdown-it-py<3.0.0,>=2.2.0 in d:\\anaconda\\lib\\site-packages (from rich>=10.11.0->typer<1.0,>=0.9->typer[all]<1.0,>=0.9->gradio==4.0.2) (2.2.0)\n",
      "Requirement already satisfied: pygments<3.0.0,>=2.13.0 in d:\\anaconda\\lib\\site-packages (from rich>=10.11.0->typer<1.0,>=0.9->typer[all]<1.0,>=0.9->gradio==4.0.2) (2.15.1)\n",
      "Requirement already satisfied: httptools>=0.5.0 in d:\\anaconda\\lib\\site-packages (from uvicorn[standard]>=0.12.0->fastapi->gradio==4.0.2) (0.6.1)\n",
      "Requirement already satisfied: python-dotenv>=0.13 in d:\\anaconda\\lib\\site-packages (from uvicorn[standard]>=0.12.0->fastapi->gradio==4.0.2) (0.21.0)\n",
      "Requirement already satisfied: watchfiles>=0.13 in d:\\anaconda\\lib\\site-packages (from uvicorn[standard]>=0.12.0->fastapi->gradio==4.0.2) (0.22.0)\n",
      "Requirement already satisfied: mdurl~=0.1 in d:\\anaconda\\lib\\site-packages (from markdown-it-py<3.0.0,>=2.2.0->rich>=10.11.0->typer<1.0,>=0.9->typer[all]<1.0,>=0.9->gradio==4.0.2) (0.1.0)\n"
     ]
    },
    {
     "name": "stderr",
     "output_type": "stream",
     "text": [
      "WARNING: Skipping D:\\Anaconda\\Lib\\site-packages\\numpy-1.26.4.dist-info due to invalid metadata entry 'name'\n",
      "WARNING: Skipping D:\\Anaconda\\Lib\\site-packages\\numpy-1.26.4.dist-info due to invalid metadata entry 'name'\n",
      "WARNING: typer 0.12.3 does not provide the extra 'all'\n",
      "WARNING: Skipping D:\\Anaconda\\Lib\\site-packages\\numpy-1.26.4.dist-info due to invalid metadata entry 'name'\n",
      "WARNING: Skipping D:\\Anaconda\\Lib\\site-packages\\numpy-1.26.4.dist-info due to invalid metadata entry 'name'\n",
      "WARNING: Skipping D:\\Anaconda\\Lib\\site-packages\\numpy-1.26.4.dist-info due to invalid metadata entry 'name'\n",
      "WARNING: Skipping D:\\Anaconda\\Lib\\site-packages\\numpy-1.26.4.dist-info due to invalid metadata entry 'name'\n"
     ]
    }
   ],
   "source": [
    "#사용자 정의 테마 설정 \n",
    "\n",
    "import gradio as gr \n",
    "custom_theme = gr.themes.Default(\n",
    "    # color: slate, gray, zinc, neutral, stone, red, orange, amber, yellow, lime, green, emerald, teal, cyan, sky, blue, indigo, violet, purple, fuchsia, pink ,rose\n",
    "    # 강조색상 톤 설정\n",
    "    primary_hue = gr.themes.colors.blue,\n",
    "    #선택된 요소나 활성화된 요소의 색상 톤 설정 \n",
    "    secondary_hue = gr.themes.colors.green,\n",
    "    #앱의 배경색, 텍스트 색상, 비활성화된 요소의 색상 톤 설정\n",
    "    neutral_hue = gr.themes.colors.red,\n",
    "    #텍스트 크기 설정 ('sm','md','lg')\n",
    "    text_size = \"lg\",\n",
    "    #요소간의 간격 크기 설정 \n",
    "    spacing_size = \"lg\",\n",
    "    #요소의 모서리 둥글기 크기 설정, \n",
    "    radius_size = \"sm\",\n",
    "    #기본 폰트 설정 \n",
    "    font = [gr.themes.GoogleFont(\"Mooli\"), \"Arial\", \"sans-serif\"],\n",
    "    #고정폭 폰트 설정 \n",
    "    font_mono=[gr.themes.GoogleFont(\"Inconsolata\"), \"Arial\", \"sans-serif\"],\n",
    ")\n",
    "\n",
    "interface = gr.Interface(\n",
    "    fn = bmi,\n",
    "    inputs = ['text', gr.Slider(1, 300, label = \"키(cm)\"), gr.Slider(1, 150, label = \"몸무게(kg)\"), gr.Checkbox(label=\"다이어트 여부\")],\n",
    "    outputs = ['text','text','text'],\n",
    "    description = '문제가 생기면 flag를 누르세요',\n",
    "    examples = [['이영희', 160, 50, False], ['카리나', 165, 45, True]],\n",
    "    flagging_options = ['good','bad','error'],\n",
    "    # live=True,\n",
    "    # theme='gstaff/xkcd',\n",
    "    theme=\"gstaff/sketch\",\n",
    ")\n",
    "interface.launch()"
   ]
  },
  {
   "cell_type": "code",
   "execution_count": null,
   "metadata": {},
   "outputs": [],
   "source": []
  }
 ],
 "metadata": {
  "kernelspec": {
   "display_name": "base",
   "language": "python",
   "name": "python3"
  },
  "language_info": {
   "codemirror_mode": {
    "name": "ipython",
    "version": 3
   },
   "file_extension": ".py",
   "mimetype": "text/x-python",
   "name": "python",
   "nbconvert_exporter": "python",
   "pygments_lexer": "ipython3",
   "version": "3.11.7"
  }
 },
 "nbformat": 4,
 "nbformat_minor": 2
}
