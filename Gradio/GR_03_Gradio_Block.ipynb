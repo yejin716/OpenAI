{
 "cells": [
  {
   "cell_type": "code",
   "execution_count": 3,
   "metadata": {},
   "outputs": [
    {
     "name": "stdout",
     "output_type": "stream",
     "text": [
      "Running on local URL:  http://127.0.0.1:7862\n",
      "IMPORTANT: You are using gradio version 4.0.2, however version 4.29.0 is available, please upgrade.\n",
      "--------\n",
      "Running on public URL: https://4fbeb7fefc4c218d3b.gradio.live\n",
      "\n",
      "This share link expires in 72 hours. For free permanent hosting and GPU upgrades, run `gradio deploy` from Terminal to deploy to Spaces (https://huggingface.co/spaces)\n"
     ]
    },
    {
     "data": {
      "text/html": [
       "<div><iframe src=\"https://4fbeb7fefc4c218d3b.gradio.live\" width=\"100%\" height=\"500\" allow=\"autoplay; camera; microphone; clipboard-read; clipboard-write;\" frameborder=\"0\" allowfullscreen></iframe></div>"
      ],
      "text/plain": [
       "<IPython.core.display.HTML object>"
      ]
     },
     "metadata": {},
     "output_type": "display_data"
    }
   ],
   "source": [
    "import gradio as gr \n",
    "\n",
    "with gr.Blocks() as demo:\n",
    "    gr.Markdown(\"# Gradio Gallery\")\n",
    "    gr.Markdown(\"Hello\")\n",
    "    gr.Markdown(\"World\")\n",
    "    gr.Image(\"http://onepm.kr/src/assets/images/1o_clock.png\", width=100)\n",
    "\n",
    "    demo.launch()\n",
    "    "
   ]
  },
  {
   "cell_type": "code",
   "execution_count": 4,
   "metadata": {},
   "outputs": [
    {
     "name": "stdout",
     "output_type": "stream",
     "text": [
      "Running on local URL:  http://127.0.0.1:7863\n",
      "\n",
      "To create a public link, set `share=True` in `launch()`.\n"
     ]
    },
    {
     "data": {
      "text/html": [
       "<div><iframe src=\"http://127.0.0.1:7863/\" width=\"100%\" height=\"500\" allow=\"autoplay; camera; microphone; clipboard-read; clipboard-write;\" frameborder=\"0\" allowfullscreen></iframe></div>"
      ],
      "text/plain": [
       "<IPython.core.display.HTML object>"
      ]
     },
     "metadata": {},
     "output_type": "display_data"
    },
    {
     "name": "stdout",
     "output_type": "stream",
     "text": [
      "IMPORTANT: You are using gradio version 4.0.2, however version 4.29.0 is available, please upgrade.\n",
      "--------\n"
     ]
    }
   ],
   "source": [
    "#Blocks 사용하기 - Columns()\n",
    "\n",
    "with gr.Blocks() as demo:\n",
    "    with gr.Row():\n",
    "        with gr.Column():\n",
    "            gr.Markdown(\"# Gradio Gallery\")\n",
    "        with gr.Column():\n",
    "            gr.Markdown(\"Hello\")\n",
    "            gr.Markdown(\"World\")\n",
    "            gr.Image(\"http://onepm.kr/src/assets/images/1o_clock.png\", width=100)\n",
    "\n",
    "    demo.launch()"
   ]
  },
  {
   "cell_type": "code",
   "execution_count": 7,
   "metadata": {},
   "outputs": [
    {
     "name": "stdout",
     "output_type": "stream",
     "text": [
      "Running on local URL:  http://127.0.0.1:7865\n",
      "\n",
      "To create a public link, set `share=True` in `launch()`.\n"
     ]
    },
    {
     "data": {
      "text/html": [
       "<div><iframe src=\"http://127.0.0.1:7865/\" width=\"100%\" height=\"500\" allow=\"autoplay; camera; microphone; clipboard-read; clipboard-write;\" frameborder=\"0\" allowfullscreen></iframe></div>"
      ],
      "text/plain": [
       "<IPython.core.display.HTML object>"
      ]
     },
     "metadata": {},
     "output_type": "display_data"
    },
    {
     "name": "stdout",
     "output_type": "stream",
     "text": [
      "IMPORTANT: You are using gradio version 4.0.2, however version 4.29.0 is available, please upgrade.\n",
      "--------\n"
     ]
    }
   ],
   "source": [
    "#Blocks 사용하기 - Box(), Group() 사용하기 \n",
    "\n",
    "with gr.Blocks() as demo:\n",
    "    with gr.Row():\n",
    "        with gr.Group():\n",
    "            gr.Markdown(\"# Gradio Gallery\")\n",
    "        with gr.Group():\n",
    "            gr.Markdown(\"Hello\")\n",
    "            gr.Markdown(\"World\")\n",
    "        with gr.Column():\n",
    "            gr.Image(\"http://onepm.kr/src/assets/images/1o_clock.png\", width=100)\n",
    "\n",
    "    demo.launch()"
   ]
  },
  {
   "cell_type": "code",
   "execution_count": 10,
   "metadata": {},
   "outputs": [
    {
     "name": "stdout",
     "output_type": "stream",
     "text": [
      "Running on local URL:  http://127.0.0.1:7867\n",
      "IMPORTANT: You are using gradio version 4.0.2, however version 4.29.0 is available, please upgrade.\n",
      "--------\n",
      "Running on public URL: https://312ac08b9524b56ba1.gradio.live\n",
      "\n",
      "This share link expires in 72 hours. For free permanent hosting and GPU upgrades, run `gradio deploy` from Terminal to deploy to Spaces (https://huggingface.co/spaces)\n"
     ]
    },
    {
     "data": {
      "text/html": [
       "<div><iframe src=\"https://312ac08b9524b56ba1.gradio.live\" width=\"100%\" height=\"500\" allow=\"autoplay; camera; microphone; clipboard-read; clipboard-write;\" frameborder=\"0\" allowfullscreen></iframe></div>"
      ],
      "text/plain": [
       "<IPython.core.display.HTML object>"
      ]
     },
     "metadata": {},
     "output_type": "display_data"
    },
    {
     "data": {
      "text/plain": []
     },
     "execution_count": 10,
     "metadata": {},
     "output_type": "execute_result"
    }
   ],
   "source": [
    "#Blocks Tab 사용하기 \n",
    "import numpy as np \n",
    "import gradio as gr \n",
    "\n",
    "#텍스트 뒤집기 \n",
    "def flip_text(x):\n",
    "    return x[::-1]\n",
    "\n",
    "#이미지 뒤집기 \n",
    "def flip_image(x):\n",
    "    return np.fliplr(x)\n",
    "\n",
    "with gr.Blocks() as demo:\n",
    "    gr.Markdown(\"Flip text or image files using this demo\")\n",
    "    gr.Markdown(\" # Flip text\")\n",
    "    text_input = gr.Textbox()\n",
    "    text_output = gr.Textbox()\n",
    "    text_button = gr.Button(\"Flip\")\n",
    "    gr.Markdown(\" # Flip Image\")\n",
    "    image_input = gr.Image()\n",
    "    image_output = gr.Image()\n",
    "    image_button = gr.Button(\"Flip\")\n",
    "    \n",
    "    with gr.Accordion(\"Open for more!\"):\n",
    "        gr.Markdown(\"Look at me...\")\n",
    "        \n",
    "        text_button.click(flip_text, inputs=text_input, outputs=text_output)\n",
    "        image_button.click(flip_image, inputs=image_input, outputs=image_output)\n",
    "demo.launch(share=True)        \n",
    "\n",
    "    \n",
    "    \n",
    "    \n"
   ]
  },
  {
   "cell_type": "code",
   "execution_count": null,
   "metadata": {},
   "outputs": [],
   "source": []
  },
  {
   "cell_type": "code",
   "execution_count": null,
   "metadata": {},
   "outputs": [],
   "source": []
  },
  {
   "cell_type": "code",
   "execution_count": null,
   "metadata": {},
   "outputs": [],
   "source": []
  }
 ],
 "metadata": {
  "kernelspec": {
   "display_name": "base",
   "language": "python",
   "name": "python3"
  },
  "language_info": {
   "codemirror_mode": {
    "name": "ipython",
    "version": 3
   },
   "file_extension": ".py",
   "mimetype": "text/x-python",
   "name": "python",
   "nbconvert_exporter": "python",
   "pygments_lexer": "ipython3",
   "version": "3.11.7"
  }
 },
 "nbformat": 4,
 "nbformat_minor": 2
}
