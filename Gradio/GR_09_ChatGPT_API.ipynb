{
  "nbformat": 4,
  "nbformat_minor": 0,
  "metadata": {
    "colab": {
      "provenance": []
    },
    "kernelspec": {
      "name": "python3",
      "display_name": "Python 3"
    },
    "language_info": {
      "name": "python"
    }
  },
  "cells": [
    {
      "cell_type": "code",
      "execution_count": 1,
      "metadata": {
        "colab": {
          "base_uri": "https://localhost:8080/"
        },
        "id": "P1UfDhEVhja2",
        "outputId": "ccc8e19c-6e24-45e9-f4e6-c98576b6c74b"
      },
      "outputs": [
        {
          "output_type": "stream",
          "name": "stdout",
          "text": [
            "Collecting gradio==4.0.2\n",
            "  Downloading gradio-4.0.2-py3-none-any.whl (25.3 MB)\n",
            "\u001b[2K     \u001b[90m━━━━━━━━━━━━━━━━━━━━━━━━━━━━━━━━━━━━━━━━\u001b[0m \u001b[32m25.3/25.3 MB\u001b[0m \u001b[31m27.9 MB/s\u001b[0m eta \u001b[36m0:00:00\u001b[0m\n",
            "\u001b[?25hCollecting openai==0.27.8\n",
            "  Downloading openai-0.27.8-py3-none-any.whl (73 kB)\n",
            "\u001b[2K     \u001b[90m━━━━━━━━━━━━━━━━━━━━━━━━━━━━━━━━━━━━━━━━\u001b[0m \u001b[32m73.6/73.6 kB\u001b[0m \u001b[31m1.7 MB/s\u001b[0m eta \u001b[36m0:00:00\u001b[0m\n",
            "\u001b[?25hCollecting aiofiles<24.0,>=22.0 (from gradio==4.0.2)\n",
            "  Downloading aiofiles-23.2.1-py3-none-any.whl (15 kB)\n",
            "Requirement already satisfied: altair<6.0,>=4.2.0 in /usr/local/lib/python3.10/dist-packages (from gradio==4.0.2) (4.2.2)\n",
            "Collecting fastapi (from gradio==4.0.2)\n",
            "  Downloading fastapi-0.111.0-py3-none-any.whl (91 kB)\n",
            "\u001b[2K     \u001b[90m━━━━━━━━━━━━━━━━━━━━━━━━━━━━━━━━━━━━━━━━\u001b[0m \u001b[32m92.0/92.0 kB\u001b[0m \u001b[31m1.5 MB/s\u001b[0m eta \u001b[36m0:00:00\u001b[0m\n",
            "\u001b[?25hCollecting ffmpy (from gradio==4.0.2)\n",
            "  Downloading ffmpy-0.3.2.tar.gz (5.5 kB)\n",
            "  Preparing metadata (setup.py) ... \u001b[?25l\u001b[?25hdone\n",
            "Collecting gradio-client==0.7.0 (from gradio==4.0.2)\n",
            "  Downloading gradio_client-0.7.0-py3-none-any.whl (302 kB)\n",
            "\u001b[2K     \u001b[90m━━━━━━━━━━━━━━━━━━━━━━━━━━━━━━━━━━━━━━━━\u001b[0m \u001b[32m302.7/302.7 kB\u001b[0m \u001b[31m19.4 MB/s\u001b[0m eta \u001b[36m0:00:00\u001b[0m\n",
            "\u001b[?25hCollecting httpx (from gradio==4.0.2)\n",
            "  Downloading httpx-0.27.0-py3-none-any.whl (75 kB)\n",
            "\u001b[2K     \u001b[90m━━━━━━━━━━━━━━━━━━━━━━━━━━━━━━━━━━━━━━━━\u001b[0m \u001b[32m75.6/75.6 kB\u001b[0m \u001b[31m5.9 MB/s\u001b[0m eta \u001b[36m0:00:00\u001b[0m\n",
            "\u001b[?25hRequirement already satisfied: huggingface-hub>=0.14.0 in /usr/local/lib/python3.10/dist-packages (from gradio==4.0.2) (0.23.4)\n",
            "Requirement already satisfied: importlib-resources<7.0,>=1.3 in /usr/local/lib/python3.10/dist-packages (from gradio==4.0.2) (6.4.0)\n",
            "Requirement already satisfied: jinja2<4.0 in /usr/local/lib/python3.10/dist-packages (from gradio==4.0.2) (3.1.4)\n",
            "Requirement already satisfied: markupsafe~=2.0 in /usr/local/lib/python3.10/dist-packages (from gradio==4.0.2) (2.1.5)\n",
            "Requirement already satisfied: matplotlib~=3.0 in /usr/local/lib/python3.10/dist-packages (from gradio==4.0.2) (3.7.1)\n",
            "Requirement already satisfied: numpy~=1.0 in /usr/local/lib/python3.10/dist-packages (from gradio==4.0.2) (1.25.2)\n",
            "Collecting orjson~=3.0 (from gradio==4.0.2)\n",
            "  Downloading orjson-3.10.6-cp310-cp310-manylinux_2_17_x86_64.manylinux2014_x86_64.whl (141 kB)\n",
            "\u001b[2K     \u001b[90m━━━━━━━━━━━━━━━━━━━━━━━━━━━━━━━━━━━━━━━━\u001b[0m \u001b[32m141.1/141.1 kB\u001b[0m \u001b[31m4.1 MB/s\u001b[0m eta \u001b[36m0:00:00\u001b[0m\n",
            "\u001b[?25hRequirement already satisfied: packaging in /usr/local/lib/python3.10/dist-packages (from gradio==4.0.2) (24.1)\n",
            "Requirement already satisfied: pandas<3.0,>=1.0 in /usr/local/lib/python3.10/dist-packages (from gradio==4.0.2) (2.0.3)\n",
            "Requirement already satisfied: pillow<11.0,>=8.0 in /usr/local/lib/python3.10/dist-packages (from gradio==4.0.2) (9.4.0)\n",
            "Requirement already satisfied: pydantic>=2.0 in /usr/local/lib/python3.10/dist-packages (from gradio==4.0.2) (2.8.0)\n",
            "Collecting pydub (from gradio==4.0.2)\n",
            "  Downloading pydub-0.25.1-py2.py3-none-any.whl (32 kB)\n",
            "Collecting python-multipart (from gradio==4.0.2)\n",
            "  Downloading python_multipart-0.0.9-py3-none-any.whl (22 kB)\n",
            "Requirement already satisfied: pyyaml<7.0,>=5.0 in /usr/local/lib/python3.10/dist-packages (from gradio==4.0.2) (6.0.1)\n",
            "Requirement already satisfied: requests~=2.0 in /usr/local/lib/python3.10/dist-packages (from gradio==4.0.2) (2.31.0)\n",
            "Collecting semantic-version~=2.0 (from gradio==4.0.2)\n",
            "  Downloading semantic_version-2.10.0-py2.py3-none-any.whl (15 kB)\n",
            "Collecting tomlkit==0.12.0 (from gradio==4.0.2)\n",
            "  Downloading tomlkit-0.12.0-py3-none-any.whl (37 kB)\n",
            "Requirement already satisfied: typer[all]<1.0,>=0.9 in /usr/local/lib/python3.10/dist-packages (from gradio==4.0.2) (0.12.3)\n",
            "Requirement already satisfied: typing-extensions~=4.0 in /usr/local/lib/python3.10/dist-packages (from gradio==4.0.2) (4.12.2)\n",
            "Collecting uvicorn>=0.14.0 (from gradio==4.0.2)\n",
            "  Downloading uvicorn-0.30.1-py3-none-any.whl (62 kB)\n",
            "\u001b[2K     \u001b[90m━━━━━━━━━━━━━━━━━━━━━━━━━━━━━━━━━━━━━━━━\u001b[0m \u001b[32m62.4/62.4 kB\u001b[0m \u001b[31m5.4 MB/s\u001b[0m eta \u001b[36m0:00:00\u001b[0m\n",
            "\u001b[?25hCollecting websockets<12.0,>=10.0 (from gradio==4.0.2)\n",
            "  Downloading websockets-11.0.3-cp310-cp310-manylinux_2_5_x86_64.manylinux1_x86_64.manylinux_2_17_x86_64.manylinux2014_x86_64.whl (129 kB)\n",
            "\u001b[2K     \u001b[90m━━━━━━━━━━━━━━━━━━━━━━━━━━━━━━━━━━━━━━━━\u001b[0m \u001b[32m129.9/129.9 kB\u001b[0m \u001b[31m5.5 MB/s\u001b[0m eta \u001b[36m0:00:00\u001b[0m\n",
            "\u001b[?25hRequirement already satisfied: tqdm in /usr/local/lib/python3.10/dist-packages (from openai==0.27.8) (4.66.4)\n",
            "Requirement already satisfied: aiohttp in /usr/local/lib/python3.10/dist-packages (from openai==0.27.8) (3.9.5)\n",
            "Requirement already satisfied: fsspec in /usr/local/lib/python3.10/dist-packages (from gradio-client==0.7.0->gradio==4.0.2) (2023.6.0)\n",
            "Requirement already satisfied: entrypoints in /usr/local/lib/python3.10/dist-packages (from altair<6.0,>=4.2.0->gradio==4.0.2) (0.4)\n",
            "Requirement already satisfied: jsonschema>=3.0 in /usr/local/lib/python3.10/dist-packages (from altair<6.0,>=4.2.0->gradio==4.0.2) (4.19.2)\n",
            "Requirement already satisfied: toolz in /usr/local/lib/python3.10/dist-packages (from altair<6.0,>=4.2.0->gradio==4.0.2) (0.12.1)\n",
            "Requirement already satisfied: filelock in /usr/local/lib/python3.10/dist-packages (from huggingface-hub>=0.14.0->gradio==4.0.2) (3.15.4)\n",
            "Requirement already satisfied: contourpy>=1.0.1 in /usr/local/lib/python3.10/dist-packages (from matplotlib~=3.0->gradio==4.0.2) (1.2.1)\n",
            "Requirement already satisfied: cycler>=0.10 in /usr/local/lib/python3.10/dist-packages (from matplotlib~=3.0->gradio==4.0.2) (0.12.1)\n",
            "Requirement already satisfied: fonttools>=4.22.0 in /usr/local/lib/python3.10/dist-packages (from matplotlib~=3.0->gradio==4.0.2) (4.53.0)\n",
            "Requirement already satisfied: kiwisolver>=1.0.1 in /usr/local/lib/python3.10/dist-packages (from matplotlib~=3.0->gradio==4.0.2) (1.4.5)\n",
            "Requirement already satisfied: pyparsing>=2.3.1 in /usr/local/lib/python3.10/dist-packages (from matplotlib~=3.0->gradio==4.0.2) (3.1.2)\n",
            "Requirement already satisfied: python-dateutil>=2.7 in /usr/local/lib/python3.10/dist-packages (from matplotlib~=3.0->gradio==4.0.2) (2.8.2)\n",
            "Requirement already satisfied: pytz>=2020.1 in /usr/local/lib/python3.10/dist-packages (from pandas<3.0,>=1.0->gradio==4.0.2) (2023.4)\n",
            "Requirement already satisfied: tzdata>=2022.1 in /usr/local/lib/python3.10/dist-packages (from pandas<3.0,>=1.0->gradio==4.0.2) (2024.1)\n",
            "Requirement already satisfied: annotated-types>=0.4.0 in /usr/local/lib/python3.10/dist-packages (from pydantic>=2.0->gradio==4.0.2) (0.7.0)\n",
            "Requirement already satisfied: pydantic-core==2.20.0 in /usr/local/lib/python3.10/dist-packages (from pydantic>=2.0->gradio==4.0.2) (2.20.0)\n",
            "Requirement already satisfied: charset-normalizer<4,>=2 in /usr/local/lib/python3.10/dist-packages (from requests~=2.0->gradio==4.0.2) (3.3.2)\n",
            "Requirement already satisfied: idna<4,>=2.5 in /usr/local/lib/python3.10/dist-packages (from requests~=2.0->gradio==4.0.2) (3.7)\n",
            "Requirement already satisfied: urllib3<3,>=1.21.1 in /usr/local/lib/python3.10/dist-packages (from requests~=2.0->gradio==4.0.2) (2.0.7)\n",
            "Requirement already satisfied: certifi>=2017.4.17 in /usr/local/lib/python3.10/dist-packages (from requests~=2.0->gradio==4.0.2) (2024.6.2)\n",
            "\u001b[33mWARNING: typer 0.12.3 does not provide the extra 'all'\u001b[0m\u001b[33m\n",
            "\u001b[0mRequirement already satisfied: click>=8.0.0 in /usr/local/lib/python3.10/dist-packages (from typer[all]<1.0,>=0.9->gradio==4.0.2) (8.1.7)\n",
            "Requirement already satisfied: shellingham>=1.3.0 in /usr/local/lib/python3.10/dist-packages (from typer[all]<1.0,>=0.9->gradio==4.0.2) (1.5.4)\n",
            "Requirement already satisfied: rich>=10.11.0 in /usr/local/lib/python3.10/dist-packages (from typer[all]<1.0,>=0.9->gradio==4.0.2) (13.7.1)\n",
            "Collecting h11>=0.8 (from uvicorn>=0.14.0->gradio==4.0.2)\n",
            "  Downloading h11-0.14.0-py3-none-any.whl (58 kB)\n",
            "\u001b[2K     \u001b[90m━━━━━━━━━━━━━━━━━━━━━━━━━━━━━━━━━━━━━━━━\u001b[0m \u001b[32m58.3/58.3 kB\u001b[0m \u001b[31m5.2 MB/s\u001b[0m eta \u001b[36m0:00:00\u001b[0m\n",
            "\u001b[?25hRequirement already satisfied: aiosignal>=1.1.2 in /usr/local/lib/python3.10/dist-packages (from aiohttp->openai==0.27.8) (1.3.1)\n",
            "Requirement already satisfied: attrs>=17.3.0 in /usr/local/lib/python3.10/dist-packages (from aiohttp->openai==0.27.8) (23.2.0)\n",
            "Requirement already satisfied: frozenlist>=1.1.1 in /usr/local/lib/python3.10/dist-packages (from aiohttp->openai==0.27.8) (1.4.1)\n",
            "Requirement already satisfied: multidict<7.0,>=4.5 in /usr/local/lib/python3.10/dist-packages (from aiohttp->openai==0.27.8) (6.0.5)\n",
            "Requirement already satisfied: yarl<2.0,>=1.0 in /usr/local/lib/python3.10/dist-packages (from aiohttp->openai==0.27.8) (1.9.4)\n",
            "Requirement already satisfied: async-timeout<5.0,>=4.0 in /usr/local/lib/python3.10/dist-packages (from aiohttp->openai==0.27.8) (4.0.3)\n",
            "Collecting starlette<0.38.0,>=0.37.2 (from fastapi->gradio==4.0.2)\n",
            "  Downloading starlette-0.37.2-py3-none-any.whl (71 kB)\n",
            "\u001b[2K     \u001b[90m━━━━━━━━━━━━━━━━━━━━━━━━━━━━━━━━━━━━━━━━\u001b[0m \u001b[32m71.9/71.9 kB\u001b[0m \u001b[31m5.8 MB/s\u001b[0m eta \u001b[36m0:00:00\u001b[0m\n",
            "\u001b[?25hCollecting fastapi-cli>=0.0.2 (from fastapi->gradio==4.0.2)\n",
            "  Downloading fastapi_cli-0.0.4-py3-none-any.whl (9.5 kB)\n",
            "Collecting ujson!=4.0.2,!=4.1.0,!=4.2.0,!=4.3.0,!=5.0.0,!=5.1.0,>=4.0.1 (from fastapi->gradio==4.0.2)\n",
            "  Downloading ujson-5.10.0-cp310-cp310-manylinux_2_17_x86_64.manylinux2014_x86_64.whl (53 kB)\n",
            "\u001b[2K     \u001b[90m━━━━━━━━━━━━━━━━━━━━━━━━━━━━━━━━━━━━━━━━\u001b[0m \u001b[32m53.6/53.6 kB\u001b[0m \u001b[31m3.5 MB/s\u001b[0m eta \u001b[36m0:00:00\u001b[0m\n",
            "\u001b[?25hCollecting email_validator>=2.0.0 (from fastapi->gradio==4.0.2)\n",
            "  Downloading email_validator-2.2.0-py3-none-any.whl (33 kB)\n",
            "Requirement already satisfied: anyio in /usr/local/lib/python3.10/dist-packages (from httpx->gradio==4.0.2) (3.7.1)\n",
            "Collecting httpcore==1.* (from httpx->gradio==4.0.2)\n",
            "  Downloading httpcore-1.0.5-py3-none-any.whl (77 kB)\n",
            "\u001b[2K     \u001b[90m━━━━━━━━━━━━━━━━━━━━━━━━━━━━━━━━━━━━━━━━\u001b[0m \u001b[32m77.9/77.9 kB\u001b[0m \u001b[31m7.0 MB/s\u001b[0m eta \u001b[36m0:00:00\u001b[0m\n",
            "\u001b[?25hRequirement already satisfied: sniffio in /usr/local/lib/python3.10/dist-packages (from httpx->gradio==4.0.2) (1.3.1)\n",
            "Collecting dnspython>=2.0.0 (from email_validator>=2.0.0->fastapi->gradio==4.0.2)\n",
            "  Downloading dnspython-2.6.1-py3-none-any.whl (307 kB)\n",
            "\u001b[2K     \u001b[90m━━━━━━━━━━━━━━━━━━━━━━━━━━━━━━━━━━━━━━━━\u001b[0m \u001b[32m307.7/307.7 kB\u001b[0m \u001b[31m26.6 MB/s\u001b[0m eta \u001b[36m0:00:00\u001b[0m\n",
            "\u001b[?25hRequirement already satisfied: jsonschema-specifications>=2023.03.6 in /usr/local/lib/python3.10/dist-packages (from jsonschema>=3.0->altair<6.0,>=4.2.0->gradio==4.0.2) (2023.12.1)\n",
            "Requirement already satisfied: referencing>=0.28.4 in /usr/local/lib/python3.10/dist-packages (from jsonschema>=3.0->altair<6.0,>=4.2.0->gradio==4.0.2) (0.35.1)\n",
            "Requirement already satisfied: rpds-py>=0.7.1 in /usr/local/lib/python3.10/dist-packages (from jsonschema>=3.0->altair<6.0,>=4.2.0->gradio==4.0.2) (0.18.1)\n",
            "Requirement already satisfied: six>=1.5 in /usr/local/lib/python3.10/dist-packages (from python-dateutil>=2.7->matplotlib~=3.0->gradio==4.0.2) (1.16.0)\n",
            "Requirement already satisfied: markdown-it-py>=2.2.0 in /usr/local/lib/python3.10/dist-packages (from rich>=10.11.0->typer[all]<1.0,>=0.9->gradio==4.0.2) (3.0.0)\n",
            "Requirement already satisfied: pygments<3.0.0,>=2.13.0 in /usr/local/lib/python3.10/dist-packages (from rich>=10.11.0->typer[all]<1.0,>=0.9->gradio==4.0.2) (2.16.1)\n",
            "Requirement already satisfied: exceptiongroup in /usr/local/lib/python3.10/dist-packages (from anyio->httpx->gradio==4.0.2) (1.2.1)\n",
            "Collecting httptools>=0.5.0 (from uvicorn>=0.14.0->gradio==4.0.2)\n",
            "  Downloading httptools-0.6.1-cp310-cp310-manylinux_2_5_x86_64.manylinux1_x86_64.manylinux_2_17_x86_64.manylinux2014_x86_64.whl (341 kB)\n",
            "\u001b[2K     \u001b[90m━━━━━━━━━━━━━━━━━━━━━━━━━━━━━━━━━━━━━━━━\u001b[0m \u001b[32m341.4/341.4 kB\u001b[0m \u001b[31m28.4 MB/s\u001b[0m eta \u001b[36m0:00:00\u001b[0m\n",
            "\u001b[?25hCollecting python-dotenv>=0.13 (from uvicorn>=0.14.0->gradio==4.0.2)\n",
            "  Downloading python_dotenv-1.0.1-py3-none-any.whl (19 kB)\n",
            "Collecting uvloop!=0.15.0,!=0.15.1,>=0.14.0 (from uvicorn>=0.14.0->gradio==4.0.2)\n",
            "  Downloading uvloop-0.19.0-cp310-cp310-manylinux_2_17_x86_64.manylinux2014_x86_64.whl (3.4 MB)\n",
            "\u001b[2K     \u001b[90m━━━━━━━━━━━━━━━━━━━━━━━━━━━━━━━━━━━━━━━━\u001b[0m \u001b[32m3.4/3.4 MB\u001b[0m \u001b[31m52.6 MB/s\u001b[0m eta \u001b[36m0:00:00\u001b[0m\n",
            "\u001b[?25hCollecting watchfiles>=0.13 (from uvicorn>=0.14.0->gradio==4.0.2)\n",
            "  Downloading watchfiles-0.22.0-cp310-cp310-manylinux_2_17_x86_64.manylinux2014_x86_64.whl (1.2 MB)\n",
            "\u001b[2K     \u001b[90m━━━━━━━━━━━━━━━━━━━━━━━━━━━━━━━━━━━━━━━━\u001b[0m \u001b[32m1.2/1.2 MB\u001b[0m \u001b[31m36.8 MB/s\u001b[0m eta \u001b[36m0:00:00\u001b[0m\n",
            "\u001b[?25hRequirement already satisfied: mdurl~=0.1 in /usr/local/lib/python3.10/dist-packages (from markdown-it-py>=2.2.0->rich>=10.11.0->typer[all]<1.0,>=0.9->gradio==4.0.2) (0.1.2)\n",
            "Building wheels for collected packages: ffmpy\n",
            "  Building wheel for ffmpy (setup.py) ... \u001b[?25l\u001b[?25hdone\n",
            "  Created wheel for ffmpy: filename=ffmpy-0.3.2-py3-none-any.whl size=5584 sha256=e84df85f36ab238336c4f0f601f5228ff1fc7dca01e8b1a43e823d68cb7609be\n",
            "  Stored in directory: /root/.cache/pip/wheels/bd/65/9a/671fc6dcde07d4418df0c592f8df512b26d7a0029c2a23dd81\n",
            "Successfully built ffmpy\n",
            "Installing collected packages: pydub, ffmpy, websockets, uvloop, ujson, tomlkit, semantic-version, python-multipart, python-dotenv, orjson, httptools, h11, dnspython, aiofiles, watchfiles, uvicorn, starlette, httpcore, email_validator, openai, httpx, gradio-client, fastapi-cli, fastapi, gradio\n",
            "Successfully installed aiofiles-23.2.1 dnspython-2.6.1 email_validator-2.2.0 fastapi-0.111.0 fastapi-cli-0.0.4 ffmpy-0.3.2 gradio-4.0.2 gradio-client-0.7.0 h11-0.14.0 httpcore-1.0.5 httptools-0.6.1 httpx-0.27.0 openai-0.27.8 orjson-3.10.6 pydub-0.25.1 python-dotenv-1.0.1 python-multipart-0.0.9 semantic-version-2.10.0 starlette-0.37.2 tomlkit-0.12.0 ujson-5.10.0 uvicorn-0.30.1 uvloop-0.19.0 watchfiles-0.22.0 websockets-11.0.3\n"
          ]
        }
      ],
      "source": [
        "!pip install gradio==4.0.2 openai==0.27.8"
      ]
    },
    {
      "cell_type": "code",
      "source": [
        "from google.colab import userdata\n",
        "import os\n",
        "\n",
        "os.environ[\"OPENAI_API_KEY\"] = userdata.get('open_ai_key_team3')"
      ],
      "metadata": {
        "id": "uDh16k-Fh-wx"
      },
      "execution_count": 2,
      "outputs": []
    },
    {
      "cell_type": "code",
      "source": [
        "import gradio as gr\n",
        "import openai\n",
        "\n",
        "def chat_with_gpt3_raw(user_input):\n",
        "    user_message = {\n",
        "        'role' : 'user',\n",
        "        'content' : user_input\n",
        "    }\n",
        "    res = openai.ChatCompletion.create(\n",
        "        model = 'gpt-3.5-turbo',\n",
        "        messages = [user_message]\n",
        "    )\n",
        "    return res\n",
        "\n",
        "print(chat_with_gpt3_raw('인공지능 공부는 어떻게 하면 좋을까?'))"
      ],
      "metadata": {
        "colab": {
          "base_uri": "https://localhost:8080/"
        },
        "id": "T6O-StZnh-uu",
        "outputId": "933a4438-b16d-4acf-cc81-2246a396b464"
      },
      "execution_count": 3,
      "outputs": [
        {
          "output_type": "stream",
          "name": "stdout",
          "text": [
            "{\n",
            "  \"id\": \"chatcmpl-9jhpnA5FNy2TdTYSF3PDWHvbXSU1U\",\n",
            "  \"object\": \"chat.completion\",\n",
            "  \"created\": 1720680287,\n",
            "  \"model\": \"gpt-3.5-turbo-0125\",\n",
            "  \"choices\": [\n",
            "    {\n",
            "      \"index\": 0,\n",
            "      \"message\": {\n",
            "        \"role\": \"assistant\",\n",
            "        \"content\": \"1. \\uc628\\ub77c\\uc778 \\uac15\\uc758\\ub098 \\uad50\\uc7ac\\ub97c \\ud65c\\uc6a9\\ud558\\uc5ec \\uae30\\ucd08 \\uc9c0\\uc2dd \\uc2b5\\ub4dd: \\uc778\\uacf5\\uc9c0\\ub2a5\\uc5d0 \\ub300\\ud55c \\uae30\\ucd08 \\uc9c0\\uc2dd\\uc744 \\uc313\\uae30 \\uc704\\ud574 \\uc628\\ub77c\\uc778 \\uac15\\uc758\\ub098 \\uad50\\uc7ac\\ub97c \\ud65c\\uc6a9\\ud558\\uc5ec \\uacf5\\ubd80\\ub97c \\uc2dc\\uc791\\ud574\\ubcf4\\uc138\\uc694. Coursera, edX, Udacity \\ub4f1\\uc758 \\uc628\\ub77c\\uc778 \\ud50c\\ub7ab\\ud3fc\\uc5d0\\uc11c \\uc778\\uacf5\\uc9c0\\ub2a5 \\uad00\\ub828 \\uac15\\uc758\\ub97c \\uc218\\uac15\\ud574\\ubcf4\\ub294 \\uac83\\ub3c4 \\uc88b\\uc740 \\ubc29\\ubc95\\uc785\\ub2c8\\ub2e4.\\n\\n2. \\ud504\\ub85c\\uc81d\\ud2b8\\ub97c \\ud1b5\\ud55c \\uc2e4\\uc804 \\uacbd\\ud5d8 \\uc313\\uae30: \\uc774\\ub860\\uc801\\uc778 \\uacf5\\ubd80\\ubfd0\\ub9cc \\uc544\\ub2c8\\ub77c \\uc2e4\\uc81c\\ub85c \\ud504\\ub85c\\uc81d\\ud2b8\\ub97c \\uc9c4\\ud589\\ud574\\ubcf4\\uba74\\uc11c \\uc2e4\\uc804 \\uacbd\\ud5d8\\uc744 \\uc313\\ub294 \\uac83\\uc774 \\uc911\\uc694\\ud569\\ub2c8\\ub2e4. Kaggle\\uacfc \\uac19\\uc740 \\ub300\\ud68c\\ub098 \\uac1c\\uc778 \\ud504\\ub85c\\uc81d\\ud2b8\\ub97c \\ud1b5\\ud574 \\uc778\\uacf5\\uc9c0\\ub2a5\\uc744 \\uc801\\uc6a9\\ud574\\ubcf4\\uba70 \\ub354 \\ub9ce\\uc740 \\uacbd\\ud5d8\\uc744 \\uc313\\uc544\\ubcf4\\uc138\\uc694.\\n\\n3. \\uba38\\uc2e0 \\ub7ec\\ub2dd\\uacfc \\ub525\\ub7ec\\ub2dd \\uacf5\\ubd80: \\uc778\\uacf5\\uc9c0\\ub2a5 \\ubd84\\uc57c\\uc5d0\\uc11c \\uc8fc\\ubaa9\\ubc1b\\ub294 \\uae30\\uc220\\uc778 \\uba38\\uc2e0 \\ub7ec\\ub2dd\\uacfc \\ub525\\ub7ec\\ub2dd\\uc5d0 \\ub300\\ud55c \\uacf5\\ubd80\\ub97c \\uafb8\\uc900\\ud788 \\ud574\\ubcf4\\uc138\\uc694. Python\\uacfc \\uac19\\uc740 \\ud504\\ub85c\\uadf8\\ub798\\ubc0d \\uc5b8\\uc5b4\\ub97c \\uacf5\\ubd80\\ud558\\uba74\\uc11c TensorFlow, PyTorch \\ub4f1\\uc758 \\ub77c\\uc774\\ube0c\\ub7ec\\ub9ac\\ub97c \\ud65c\\uc6a9\\ud558\\uc5ec \\uc2e4\\uc2b5\\ud574\\ubcf4\\ub294 \\uac83\\ub3c4 \\uc88b\\uc740 \\ubc29\\ubc95\\uc785\\ub2c8\\ub2e4.\\n\\n4. \\ucee4\\ubba4\\ub2c8\\ud2f0 \\ucc38\\uc5ec: \\uc628\\ub77c\\uc778 \\ud3ec\\ub7fc\\uc774\\ub098 \\uc18c\\uc15c \\ubbf8\\ub514\\uc5b4\\ub97c \\ud65c\\uc6a9\\ud558\\uc5ec \\uc778\\uacf5\\uc9c0\\ub2a5 \\uad00\\ub828 \\ucee4\\ubba4\\ub2c8\\ud2f0\\uc5d0 \\ucc38\\uc5ec\\ud574\\ubcf4\\uc138\\uc694. \\ub2e4\\ub978 \\uc0ac\\ub78c\\ub4e4\\uacfc \\uc815\\ubcf4\\ub97c \\uacf5\\uc720\\ud558\\uace0 \\ud568\\uaed8 \\uacf5\\ubd80\\ud558\\uba74\\uc11c \\uc11c\\ub85c\\uc5d0\\uac8c \\ub3c4\\uc6c0\\uc744 \\uc8fc\\uace0 \\ubc1b\\uc744 \\uc218 \\uc788\\uc2b5\\ub2c8\\ub2e4.\\n\\n5. \\uacc4\\ud68d\\uc801\\uc778 \\uacf5\\ubd80: \\uc778\\uacf5\\uc9c0\\ub2a5 \\uacf5\\ubd80\\ub97c \\uc704\\ud574\\uc11c\\ub294 \\uacc4\\ud68d\\uc744 \\uc138\\uc6b0\\uace0 \\uafb8\\uc900\\ud788 \\ub178\\ub825\\ud558\\ub294 \\uac83\\uc774 \\uc911\\uc694\\ud569\\ub2c8\\ub2e4. \\ub9e4\\uc77c \\uc870\\uae08\\uc529\\uc774\\ub77c\\ub3c4 \\uc2dc\\uac04\\uc744 \\ub0b4\\uc5b4 \\uacf5\\ubd80\\ub97c \\ud558\\uace0, \\ubaa9\\ud45c\\ub97c \\uc124\\uc815\\ud558\\uc5ec \\ub2ec\\uc131\\ud574\\ub098\\uac00\\ub294 \\uac83\\uc774 \\ub3c4\\uc6c0\\uc774 \\ub420 \\uac83\\uc785\\ub2c8\\ub2e4.\"\n",
            "      },\n",
            "      \"logprobs\": null,\n",
            "      \"finish_reason\": \"stop\"\n",
            "    }\n",
            "  ],\n",
            "  \"usage\": {\n",
            "    \"prompt_tokens\": 29,\n",
            "    \"completion_tokens\": 580,\n",
            "    \"total_tokens\": 609\n",
            "  },\n",
            "  \"system_fingerprint\": null\n",
            "}\n"
          ]
        }
      ]
    },
    {
      "cell_type": "code",
      "source": [
        "print(chat_with_gpt3_raw(\"How to study AI?\"))"
      ],
      "metadata": {
        "colab": {
          "base_uri": "https://localhost:8080/"
        },
        "id": "j3C5Sc8Ch-s2",
        "outputId": "2d627c41-7d21-4fa9-af2e-86328c8689ef"
      },
      "execution_count": 4,
      "outputs": [
        {
          "output_type": "stream",
          "name": "stdout",
          "text": [
            "{\n",
            "  \"id\": \"chatcmpl-9jhqWNO59xE7rfFqIlctoITYueh14\",\n",
            "  \"object\": \"chat.completion\",\n",
            "  \"created\": 1720680332,\n",
            "  \"model\": \"gpt-3.5-turbo-0125\",\n",
            "  \"choices\": [\n",
            "    {\n",
            "      \"index\": 0,\n",
            "      \"message\": {\n",
            "        \"role\": \"assistant\",\n",
            "        \"content\": \"Studying AI involves a combination of theoretical knowledge, practical skills, and staying up to date with the latest developments in the field. Here are some steps you can take to study AI effectively:\\n\\n1. Learn the basics: Start by understanding the fundamental concepts of AI, including machine learning, neural networks, deep learning, and natural language processing.\\n\\n2. Take online courses: There are numerous online platforms offering AI courses from introductory to advanced levels, such as Coursera, edX, and Udacity.\\n\\n3. Read books and research papers: Dive into AI literature to deepen your understanding of the subject and stay current with the latest research trends.\\n\\n4. Practice coding: Hands-on experience is crucial in AI, so practice coding with programming languages commonly used in AI, such as Python and R.\\n\\n5. Work on projects: Implement AI algorithms in real-world projects to gain practical experience and build your portfolio.\\n\\n6. Join online communities: Engage with AI enthusiasts and professionals on forums, social media, and online groups such as Reddit's r/MachineLearning.\\n\\n7. Attend workshops and conferences: Participate in AI workshops and conferences to network with experts, learn about the latest advancements, and collaborate on projects.\\n\\n8. Stay updated: Follow AI blogs, podcasts, and newsletters to stay informed about the latest research, tools, and technologies in the field.\\n\\n9. Pursue further education: Consider enrolling in a formal degree program in AI or related fields, such as computer science, to deepen your knowledge and credentials.\\n\\n10. Practice continual learning: AI is a rapidly evolving field, so make a habit of continuously learning and experimenting with new techniques and technologies.\"\n",
            "      },\n",
            "      \"logprobs\": null,\n",
            "      \"finish_reason\": \"stop\"\n",
            "    }\n",
            "  ],\n",
            "  \"usage\": {\n",
            "    \"prompt_tokens\": 12,\n",
            "    \"completion_tokens\": 333,\n",
            "    \"total_tokens\": 345\n",
            "  },\n",
            "  \"system_fingerprint\": null\n",
            "}\n"
          ]
        }
      ]
    },
    {
      "cell_type": "code",
      "source": [
        "def chat_with_gpt3(user_input):\n",
        "    user_message = {\n",
        "        'role': 'user',\n",
        "        'content': user_input\n",
        "    }\n",
        "    res = openai.ChatCompletion.create(\n",
        "        model = 'gpt-3.5-turbo',\n",
        "        messages=[user_message]\n",
        "    )\n",
        "    get_response = res['choices'][0][\"message\"][\"content\"]\n",
        "    #return res\n",
        "    print(get_response)\n",
        "    return get_response"
      ],
      "metadata": {
        "id": "p4hg7qMRh-q0"
      },
      "execution_count": 5,
      "outputs": []
    },
    {
      "cell_type": "code",
      "source": [
        "print(chat_with_gpt3(\"인공지능 공부는 어떻게 하면 좋을까?\"))\n"
      ],
      "metadata": {
        "colab": {
          "base_uri": "https://localhost:8080/"
        },
        "id": "71xHG0JXh-ow",
        "outputId": "43e0725f-f2fe-4a1e-ea5f-a2b7ed85eb36"
      },
      "execution_count": 6,
      "outputs": [
        {
          "output_type": "stream",
          "name": "stdout",
          "text": [
            "1. 기초 지식 습득: 먼저 인공지능에 대한 기본적인 지식을 습득해야 합니다. 수학, 통계학, 컴퓨터 공학 등의 기초 지식을 쌓고, 머신러닝 및 딥러닝 알고리즘을 이해하는 것이 중요합니다.\n",
            "\n",
            "2. 온라인 강의 수강: 인공지능 관련된 온라인 강의를 수강하여 세부적인 지식을 쌓을 수 있습니다. Coursera, Udemy, edX 등의 강의 플랫폼을 활용해보세요.\n",
            "\n",
            "3. 프로젝트 실습: 이론적인 지식 뿐만 아니라 실제로 프로젝트를 진행해보는 것이 중요합니다. Kaggle과 같은 온라인 플랫폼을 활용하여 다양한 데이터셋을 활용한 프로젝트를 진행해보세요.\n",
            "\n",
            "4. 논문 리뷰: 최신 인공지능 연구를 따라가며 논문을 읽고 리뷰하는 것도 좋은 방법입니다. 이를 통해 최신 기술 동향을 파악하고 실력을 향상시킬 수 있습니다.\n",
            "\n",
            "5. 커뮤니티 활동: 온라인 커뮤니티나 스터디 그룹에 참여하여 다른 사람들과 지식을 공유하고 토론해보세요. 함께 공부하면 더 많은 것을 배울 수 있습니다.\n",
            "\n",
            "6. 지속적인 학습: 인공지능은 끊임없이 발전하는 분야이기 때문에 지속적인 학습이 필요합니다. 새로운 기술과 알고리즘을 학습하고 자신의 스킬을 업그레이드해나가는 노력이 필요합니다.\n",
            "1. 기초 지식 습득: 먼저 인공지능에 대한 기본적인 지식을 습득해야 합니다. 수학, 통계학, 컴퓨터 공학 등의 기초 지식을 쌓고, 머신러닝 및 딥러닝 알고리즘을 이해하는 것이 중요합니다.\n",
            "\n",
            "2. 온라인 강의 수강: 인공지능 관련된 온라인 강의를 수강하여 세부적인 지식을 쌓을 수 있습니다. Coursera, Udemy, edX 등의 강의 플랫폼을 활용해보세요.\n",
            "\n",
            "3. 프로젝트 실습: 이론적인 지식 뿐만 아니라 실제로 프로젝트를 진행해보는 것이 중요합니다. Kaggle과 같은 온라인 플랫폼을 활용하여 다양한 데이터셋을 활용한 프로젝트를 진행해보세요.\n",
            "\n",
            "4. 논문 리뷰: 최신 인공지능 연구를 따라가며 논문을 읽고 리뷰하는 것도 좋은 방법입니다. 이를 통해 최신 기술 동향을 파악하고 실력을 향상시킬 수 있습니다.\n",
            "\n",
            "5. 커뮤니티 활동: 온라인 커뮤니티나 스터디 그룹에 참여하여 다른 사람들과 지식을 공유하고 토론해보세요. 함께 공부하면 더 많은 것을 배울 수 있습니다.\n",
            "\n",
            "6. 지속적인 학습: 인공지능은 끊임없이 발전하는 분야이기 때문에 지속적인 학습이 필요합니다. 새로운 기술과 알고리즘을 학습하고 자신의 스킬을 업그레이드해나가는 노력이 필요합니다.\n"
          ]
        }
      ]
    },
    {
      "cell_type": "code",
      "source": [
        "# gradio interface 설정\n",
        "\n",
        "iface = gr.Interface(\n",
        "    fn = chat_with_gpt3,\n",
        "    inputs = 'text',\n",
        "    outputs = 'text'\n",
        ")\n",
        "\n",
        "iface.launch(share=True)"
      ],
      "metadata": {
        "colab": {
          "base_uri": "https://localhost:8080/",
          "height": 649
        },
        "id": "lDN5H08cjDPX",
        "outputId": "f03ea5ef-7cf0-4009-a261-e6078838c023"
      },
      "execution_count": 7,
      "outputs": [
        {
          "output_type": "stream",
          "name": "stdout",
          "text": [
            "IMPORTANT: You are using gradio version 4.0.2, however version 4.29.0 is available, please upgrade.\n",
            "--------\n",
            "Colab notebook detected. To show errors in colab notebook, set debug=True in launch()\n",
            "Running on public URL: https://974e2310f05868f0fa.gradio.live\n",
            "\n",
            "This share link expires in 72 hours. For free permanent hosting and GPU upgrades, run `gradio deploy` from Terminal to deploy to Spaces (https://huggingface.co/spaces)\n"
          ]
        },
        {
          "output_type": "display_data",
          "data": {
            "text/plain": [
              "<IPython.core.display.HTML object>"
            ],
            "text/html": [
              "<div><iframe src=\"https://974e2310f05868f0fa.gradio.live\" width=\"100%\" height=\"500\" allow=\"autoplay; camera; microphone; clipboard-read; clipboard-write;\" frameborder=\"0\" allowfullscreen></iframe></div>"
            ]
          },
          "metadata": {}
        },
        {
          "output_type": "execute_result",
          "data": {
            "text/plain": []
          },
          "metadata": {},
          "execution_count": 7
        }
      ]
    }
  ]
}