{
  "nbformat": 4,
  "nbformat_minor": 0,
  "metadata": {
    "colab": {
      "provenance": [],
      "gpuType": "T4"
    },
    "kernelspec": {
      "name": "python3",
      "display_name": "Python 3"
    },
    "language_info": {
      "name": "python"
    },
    "accelerator": "GPU"
  },
  "cells": [
    {
      "cell_type": "code",
      "execution_count": null,
      "metadata": {
        "id": "eFiVTp7FqRib"
      },
      "outputs": [],
      "source": [
        "!pip install langchain # langchain 활용\n",
        "!pip install openai==0.27.8 # chatgpt api 활용\n",
        "!pip install google-search-results # Google Search 결과를 가져오기 위한 라이브러리\n",
        "!pip install wikipedia # Wikipedia API를 사용하기 위한 라이브러리\n",
        "!pip install faiss-cpu # FAISS는 Facebook에서 만든 오픈소스 벡터 데이터베이스 라이브러리 (MIT license)\n",
        "!pip install sentence_transformers # HuggingFace Embedding 사용 위해서 필요\n",
        "!pip install tiktoken # 텍스트를 요약할 때 필요한 라이브러리\n",
        "!pip install PyPDF2 # PDF 파일을 읽어오기 위한 라이브러리"
      ]
    },
    {
      "cell_type": "code",
      "source": [
        "pip install langchain_community"
      ],
      "metadata": {
        "id": "RUCJJPMPq3eQ"
      },
      "execution_count": null,
      "outputs": []
    },
    {
      "cell_type": "code",
      "source": [
        "from google.colab import userdata\n",
        "import os\n",
        "\n",
        "os.environ[\"OPENAI_API_KEY\"] = userdata.get('')\n",
        "os.environ[\"SERPAPI_API_KEY\"] = userdata.get('')\n",
        "os.environ[\"HUGGINGFACEHUB_API_TOKEN\"] = userdata.get('')\n"
      ],
      "metadata": {
        "id": "oqea4EVhr285"
      },
      "execution_count": null,
      "outputs": []
    },
    {
      "cell_type": "code",
      "source": [
        "pip show google_search_results"
      ],
      "metadata": {
        "id": "x2CbMOda3z0w"
      },
      "execution_count": null,
      "outputs": []
    },
    {
      "cell_type": "code",
      "source": [
        "from langchain.llms import OpenAI\n",
        "import langchain_community\n",
        "\n",
        "llm = OpenAI(model_name = 'gpt-3.5-turbo', temperature=0.9)"
      ],
      "metadata": {
        "id": "N0CBfq0nvxz9"
      },
      "execution_count": null,
      "outputs": []
    },
    {
      "cell_type": "code",
      "source": [
        "!pip install google-search-results"
      ],
      "metadata": {
        "id": "YWa5C3a6wQ81"
      },
      "execution_count": null,
      "outputs": []
    },
    {
      "cell_type": "code",
      "source": [
        "from langchain.agents import load_tools\n",
        "from langchain.agents import initialize_agent\n",
        "from langchain.agents import AgentType\n",
        "from langchain.llms import OpenAI\n",
        "from langchain.chat_models import ChatOpenAI\n",
        "\n",
        "\n",
        "chat = ChatOpenAI(temperature=0)\n",
        "\n",
        "tools = load_tools([\"wikipedia\", \"llm-math\"], llm=chat)\n",
        "agent = initialize_agent(tools, chat, agent=AgentType.CHAT_ZERO_SHOT_REACT_DESCRIPTION, verbose=True)\n",
        "\n",
        "print(agent.run(\"Google CEO와 Tesla CEO는 각각 몇살이고 이 두사람의 나이 차이는 몇 살 차이야?\"))\n",
        "print()\n",
        "print(agent.tools)\n",
        "print(agent.tools[0].description)\n",
        "print(agent.tools[1].description)"
      ],
      "metadata": {
        "id": "gtz0hfVArHjY"
      },
      "execution_count": null,
      "outputs": []
    },
    {
      "cell_type": "code",
      "source": [
        "from langchain.document_loaders import WebBaseLoader\n",
        "\n",
        "web_site = \"위키피디아 url\"\n",
        "\n",
        "loader = WebBaseLoader(web_path=web_site)\n",
        "document = loader.load()"
      ],
      "metadata": {
        "id": "igwrdKppzfXS"
      },
      "execution_count": null,
      "outputs": []
    },
    {
      "cell_type": "code",
      "source": [
        "from langchain.text_splitter import CharacterTextSplitter\n",
        "\n",
        "text_splitter = CharacterTextSplitter(chunk_size=1000, chunk_overlap=0)\n",
        "docs = text_splitter.split_documents(document)"
      ],
      "metadata": {
        "id": "g2b-CBBaz0cb"
      },
      "execution_count": null,
      "outputs": []
    },
    {
      "cell_type": "code",
      "source": [
        "print(len(docs))\n"
      ],
      "metadata": {
        "id": "5SwLLgUHz4I5"
      },
      "execution_count": null,
      "outputs": []
    },
    {
      "cell_type": "code",
      "source": [
        "print(docs[10])"
      ],
      "metadata": {
        "id": "T7yB9EVQz6X3"
      },
      "execution_count": null,
      "outputs": []
    },
    {
      "cell_type": "code",
      "source": [
        "#요약하기\n",
        "from langchain.chains.summarize import load_summarize_chain\n",
        "\n",
        "chain = load_summarize_chain(chat, chain_type=\"map_reduce\", verbose=True)\n",
        "chain.run(docs[:3])"
      ],
      "metadata": {
        "id": "nB4qAZUvz_T6"
      },
      "execution_count": null,
      "outputs": []
    },
    {
      "cell_type": "code",
      "source": [
        "# 요약\n",
        "'''\n",
        "YouTube is an online video sharing platform available in 193 languages,\n",
        "covering various topics such as technology, services, social impact, incidents, revenue, and copyright.\n",
        "It was founded in 2005 in the United States and acquired by Google in 2006.\n",
        "YouTube is known as the largest video sharing and hosting site globally, allowing users to watch, upload, and share videos.\n",
        "\n",
        "\n",
        "YouTube는 193개 언어로 제공되는 온라인 동영상 공유 플랫폼입니다.\n",
        "기술, 서비스, 사회적 영향, 사건, 수익, 저작권 등 다양한 주제를 다룹니다.\n",
        "2005년 미국에서 설립됐으며 2006년 구글에 인수됐다.\n",
        "YouTube는 전 세계적으로 가장 큰 동영상 공유 및 호스팅 사이트로 알려져 있으며 사용자가 동영상을 보고,\n",
        "업로드하고, 공유할 수 있습니다.\n",
        "'''\n",
        "\n"
      ],
      "metadata": {
        "id": "6ZK7XOrs0Chi"
      },
      "execution_count": null,
      "outputs": []
    },
    {
      "cell_type": "code",
      "source": [
        "#embedding and vectorstore 활용, 학습시키기\n",
        "\n",
        "from langchain.embeddings import HuggingFaceEmbeddings\n",
        "\n",
        "embeddings = HuggingFaceEmbeddings()\n",
        "\n",
        "from langchain.indexes import VectorstoreIndexCreator\n",
        "from langchain.vectorstores import FAISS\n",
        "\n",
        "index = VectorstoreIndexCreator(\n",
        "    vectorstore_cls = FAISS,\n",
        "    embedding=embeddings).from_loaders([loader])\n",
        "\n",
        "index.vectorstore.save_local(\"faiss_youtube\")"
      ],
      "metadata": {
        "id": "Sgc4OIam0aYq"
      },
      "execution_count": null,
      "outputs": []
    },
    {
      "cell_type": "code",
      "source": [
        "index.query(\"유튜브를 출시한 날짜는 언제인가요\", llm=chat, verbose=True)"
      ],
      "metadata": {
        "id": "b_lfQOgC07-6"
      },
      "execution_count": null,
      "outputs": []
    },
    {
      "cell_type": "code",
      "source": [
        "from langchain.indexes.vectorstore import VectorStoreIndexWrapper\n",
        "\n",
        "fdb = FAISS.load_local(\"faiss_youtube\", embeddings, allow_dangerous_deserialization=True)\n",
        "index2 = VectorStoreIndexWrapper(vectorstore=fdb)"
      ],
      "metadata": {
        "id": "wiN2IJAh1NSU"
      },
      "execution_count": null,
      "outputs": []
    },
    {
      "cell_type": "code",
      "source": [
        "index2.query(\"유튜브는 누가 만들었나요?\", llm=chat, verbose=True)\n"
      ],
      "metadata": {
        "id": "mAjAfo571dfC"
      },
      "execution_count": null,
      "outputs": []
    }
  ]
}