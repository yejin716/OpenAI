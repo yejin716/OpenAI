{
  "nbformat": 4,
  "nbformat_minor": 0,
  "metadata": {
    "colab": {
      "provenance": [],
      "gpuType": "T4"
    },
    "kernelspec": {
      "name": "python3",
      "display_name": "Python 3"
    },
    "language_info": {
      "name": "python"
    },
    "accelerator": "GPU"
  },
  "cells": [
    {
      "cell_type": "code",
      "execution_count": null,
      "metadata": {
        "id": "Dyu-JppM9gB8"
      },
      "outputs": [],
      "source": [
        "!pip install langchain # langchain 활용\n",
        "!pip install openai==0.27.8 # chatgpt api 활용\n",
        "!pip install google-search-results # Google Search 결과를 가져오기 위한 라이브러리\n",
        "!pip install wikipedia # Wikipedia API를 사용하기 위한 라이브러리\n",
        "!pip install faiss-cpu # FAISS는 Facebook에서 만든 오픈소스 벡터 데이터베이스 라이브러리 (MIT license)\n",
        "!pip install sentence_transformers # HuggingFace Embedding 사용 위해서 필요\n",
        "!pip install tiktoken # 텍스트를 요약할 때 필요한 라이브러리\n",
        "!pip install PyPDF2 # PDF 파일을 읽어오기 위한 라이브러리"
      ]
    },
    {
      "cell_type": "code",
      "source": [
        "from google.colab import userdata\n",
        "import os\n",
        "\n",
        "os.environ[\"OPENAI_API_KEY\"] = userdata.get('')"
      ],
      "metadata": {
        "id": "byByLkvk9yza"
      },
      "execution_count": null,
      "outputs": []
    },
    {
      "cell_type": "code",
      "source": [
        "#@markdown https://serpapi.com/manage-api-key\n",
        "#@markdown 구글 검색하기 위해서 필요 (월 100회 무료)\n",
        "#serpapi에서 발급받은 api 키를 입력해 주세요\n",
        "SERPAPI_API_KEY = \"your_api_key\" #@param {type:\"string\"}"
      ],
      "metadata": {
        "id": "unLdOgOu9yxf"
      },
      "execution_count": null,
      "outputs": []
    },
    {
      "cell_type": "code",
      "source": [
        "#@markdown https://huggingface.co/settings/tokens\n",
        "#@markdown HuggingFace에서 모델 다운로드나 클라우드 모델 사용하기 위해서 필요 (무료)\n",
        "# huggingFace api 키를 입력해 주세요\n",
        "HUGGINGFACEHUB_API_TOKEN = \"your_api_key\" #@param {type:\"string\"}"
      ],
      "metadata": {
        "id": "Sxc4IoS2BaVV"
      },
      "execution_count": null,
      "outputs": []
    },
    {
      "cell_type": "code",
      "source": [
        "pip install langchain_community"
      ],
      "metadata": {
        "id": "dNHeXR_A9yt3"
      },
      "execution_count": null,
      "outputs": []
    },
    {
      "cell_type": "code",
      "source": [
        "#chatgpt 기본 사용법\n",
        "from langchain.llms import OpenAI\n",
        "import langchain_community\n"
      ],
      "metadata": {
        "id": "1vYNU3fL9yrk"
      },
      "execution_count": null,
      "outputs": []
    },
    {
      "cell_type": "code",
      "source": [
        "llm = OpenAI(model_name = 'gpt-3.5-turbo', temperature=0.9)\n",
        "llm('90년대 kpop 히트곡을 알려줘')"
      ],
      "metadata": {
        "id": "ihOajoS79yn3"
      },
      "execution_count": null,
      "outputs": []
    },
    {
      "cell_type": "code",
      "source": [
        "#prompt 사용하기\n",
        "from langchain.chat_models import ChatOpenAI\n",
        "from langchain.schema import(\n",
        "    AIMessage,\n",
        "    HumanMessage,\n",
        "    SystemMessage\n",
        ")\n",
        "\n",
        "chat = ChatOpenAI(model='gpt-3.5-turbo', temperature=0.9)\n",
        "sys = SystemMessage(content='당신은 영화 추천을 해주는 전문 AI입니다.')\n",
        "msg = HumanMessage(content='2000년대 개봉한 액션 영화 5개를 추천해줘')\n",
        "aimsg = chat([sys, msg])\n",
        "aimsg\n"
      ],
      "metadata": {
        "id": "L0yzZlpg9ykY"
      },
      "execution_count": null,
      "outputs": []
    },
    {
      "cell_type": "code",
      "source": [
        "#prompt template / chain 사용\n",
        "\n",
        "from langchain.prompts import PromptTemplate\n",
        "\n",
        "prompt = PromptTemplate(\n",
        "    input_variables = ['상품'],\n",
        "    template = '{상품} 기반으로 재미있는 메뉴 이름을 추천해줘',\n",
        ")\n",
        "\n",
        "prompt.format(상품='AI 치킨 추천서비스')"
      ],
      "metadata": {
        "id": "Q00SXsiv9yiR"
      },
      "execution_count": null,
      "outputs": []
    },
    {
      "cell_type": "code",
      "source": [
        "from langchain.chains import LLMChain\n",
        "\n",
        "chat = ChatOpenAI(model_name = 'gpt-3.5-turbo', temperature=0.9)\n",
        "chain = LLMChain(llm = chat, prompt = prompt)\n",
        "\n",
        "chain.run(상품='치킨 추천')"
      ],
      "metadata": {
        "id": "kHJ_LBFv9ygJ"
      },
      "execution_count": null,
      "outputs": []
    },
    {
      "cell_type": "markdown",
      "source": [
        "ChatPromptTemplate / chain 번역하기"
      ],
      "metadata": {
        "id": "0jVLLP1bIOxU"
      }
    },
    {
      "cell_type": "code",
      "source": [
        "from langchain.chat_models import ChatOpenAI\n",
        "from langchain.prompts.chat import (\n",
        "ChatPromptTemplate,\n",
        "SystemMessagePromptTemplate,\n",
        "HumanMessagePromptTemplate,\n",
        ")\n",
        "\n",
        "chat = ChatOpenAI(temperature=0)\n",
        "\n",
        "template = 'You are a helpful assistant that translates {input_language} to {output_language}.'\n",
        "system_message_prompt = SystemMessagePromptTemplate.from_template(template)\n",
        "\n",
        "human_template = \"{text}\"\n",
        "human_message_prompt = HumanMessagePromptTemplate.from_template(human_template)\n",
        "\n",
        "chat_prompt = ChatPromptTemplate.from_messages([system_message_prompt, human_message_prompt])\n",
        "\n",
        "chatchain = LLMChain(llm = chat, prompt=chat_prompt)\n",
        "chatchain.run(input_language=\"English\", output_language=\"Korean\", text=\"I love Deep-Learning\")"
      ],
      "metadata": {
        "id": "CEc3Ndjh9yYp"
      },
      "execution_count": null,
      "outputs": []
    },
    {
      "cell_type": "markdown",
      "source": [
        "Agent 와 Tool 검색결과 확인하기"
      ],
      "metadata": {
        "id": "J_MqXZUCQJcN"
      }
    },
    {
      "cell_type": "code",
      "source": [
        "#검색 결과 길반으로 계산하기 (구글대표와 테슬라 대표 몇살 차이?)\n",
        "\n",
        "from langchain.agents import load_tools\n",
        "from langchain.agents import initialize_agent\n",
        "from langchain.agents import AgentType\n",
        "\n",
        "# tools =load_tools([\"serpapi\", \"llm-math\"], llm=chat)\n",
        "tools =load_tools([\"wikipedia\", \"llm-math\"], llm=chat)\n",
        "agent = initialize_agent(tools, llm=chat, agent=AgentType.ZERO_SHOT_REACT_DESCRIPTION,verbose=True)\n",
        "\n",
        "#tools >> 특정 일을 하는 존재 예) 구글검색, 위키피디아 검색, db조회, 수학계산 등\n",
        "#agent >> 어떤 도구(tools)를 사용, 어떤 순서로 실행할지 결정하는 존재(LLM 이용)\n",
        "\n",
        "print(agent.run(\"Google CEO와 Tesla CEO는 각각 몇살이고 이 두사람의 나이 차이는 몇 살 차이야?\"))\n",
        "print()\n",
        "print(agent.tools)\n",
        "print(agent.tools[0].description)\n",
        "print(agent.tools[1].description)\n"
      ],
      "metadata": {
        "id": "0vbQopkx9yWT"
      },
      "execution_count": null,
      "outputs": []
    },
    {
      "cell_type": "markdown",
      "source": [
        "웹페이지 내용 요약"
      ],
      "metadata": {
        "id": "5A0qrizUTSfq"
      }
    },
    {
      "cell_type": "code",
      "source": [
        "# https://ko.wikipedia.org/wiki/NewJeans\n",
        "# 뉴진스 설명 웹페이지\n",
        "\n",
        "# Document Loaders\n",
        "\n",
        "from langchain.document_loaders import WebBaseLoader\n",
        "\n",
        "web_site = \"위키피디아 url\"\n",
        "\n",
        "#웹페이지 불러오기\n",
        "loader = WebBaseLoader(web_path=web_site)\n",
        "document = loader.load()\n"
      ],
      "metadata": {
        "id": "hyiNN7YXTMIB"
      },
      "execution_count": null,
      "outputs": []
    },
    {
      "cell_type": "code",
      "source": [
        "#TextSplitter\n",
        "#웹페이지 내용이 많기 때문에 chatgpt가 이해하기 쉽게 텍스트 분할\n",
        "#(현실적으로) 과소비 주의!\n",
        "\n",
        "from langchain.text_splitter import CharacterTextSplitter\n",
        "\n",
        "text_splitter = CharacterTextSplitter(chunk_size=1000, chunk_overlap=0)\n",
        "docs = text_splitter.split_documents(document)"
      ],
      "metadata": {
        "id": "kZB649unUGew"
      },
      "execution_count": null,
      "outputs": []
    },
    {
      "cell_type": "code",
      "source": [
        "print(len(docs))"
      ],
      "metadata": {
        "id": "SxGkAChbUGar"
      },
      "execution_count": null,
      "outputs": []
    },
    {
      "cell_type": "code",
      "source": [
        "print(docs[0])"
      ],
      "metadata": {
        "id": "YKl58uNXUGYu"
      },
      "execution_count": null,
      "outputs": []
    },
    {
      "cell_type": "code",
      "source": [
        "print(docs[10])"
      ],
      "metadata": {
        "id": "T65kYNyWUGWe"
      },
      "execution_count": null,
      "outputs": []
    },
    {
      "cell_type": "code",
      "source": [
        "#요약하기\n",
        "from langchain.chains.summarize import load_summarize_chain\n",
        "\n",
        "chain = load_summarize_chain(chat, chain_type=\"map_reduce\", verbose=True)\n",
        "chain.run(docs[:3])"
      ],
      "metadata": {
        "id": "H_uSkqUAVAza"
      },
      "execution_count": null,
      "outputs": []
    },
    {
      "cell_type": "code",
      "source": [
        "# map_reduce란, 나눠서 요약하고 전체본 요약을 다시해서 합치는 과정\n",
        "# stuff : 한번에 다 넣고 요약 // 오류날 확률이 높음\n",
        "# refine : 요약 + 다음 문서 >> 요약\n",
        "# map_rerank : 점수를 매겨서 중요한 거 요약\n",
        "# verbose=True : 진행과정을 보여줌"
      ],
      "metadata": {
        "id": "N0KV9xhEVAx2"
      },
      "execution_count": null,
      "outputs": []
    },
    {
      "cell_type": "markdown",
      "source": [
        "Embeddings and VectorStore 활용, 학습시키기"
      ],
      "metadata": {
        "id": "q0qq5GXzcC3a"
      }
    },
    {
      "cell_type": "code",
      "source": [
        "#vector db로컬에 저장\n",
        "\n",
        "#embedding and vetorsotre\n",
        "from langchain.embeddings import HuggingFaceEmbeddings\n",
        "from langchain.embeddings import OpenAIEmbeddings\n",
        "\n",
        "# embeddings = OpenAIEmbeddings()\n",
        "embeddings = HuggingFaceEmbeddings()\n",
        "# embedding이란?\n",
        "# LLM에 input(text) 넣었을 때 나오는 특징 숫자열(벡터)\n",
        "# 보통 512개의 float로 이루어져 있음\n",
        "# >> 의미상 비슷한 input이 들어갔을 때, 나오는 특징벡터가 유사한 특징을 갖고, 거리상 가깝다.\n",
        "# 예) 바나나/사과\n",
        "\n",
        "from langchain.indexes import VectorstoreIndexCreator\n",
        "from langchain.vectorstores import FAISS\n",
        "\n",
        "index = VectorstoreIndexCreator(\n",
        "    vectorstore_cls = FAISS,\n",
        "    embedding = embeddings,\n",
        "\n",
        ").from_loaders([loader])\n",
        "\n",
        "#파일로 저장\n",
        "index.vectorstore.save_local(\"faiss-nj\")"
      ],
      "metadata": {
        "id": "JU0eWdlzVAwJ"
      },
      "execution_count": null,
      "outputs": []
    },
    {
      "cell_type": "code",
      "source": [
        "#vector-db 에 질문하기\n",
        "index.query(\"뉴진스의 첫 노래는?\", llm=chat, verbose=True)"
      ],
      "metadata": {
        "id": "zmmQwhiQVAu2"
      },
      "execution_count": null,
      "outputs": []
    },
    {
      "cell_type": "code",
      "source": [
        "index.query(\"뉴진스 구성원 수는?\", llm=chat, verbose=True)\n"
      ],
      "metadata": {
        "id": "9FIneSCYVAsv"
      },
      "execution_count": null,
      "outputs": []
    },
    {
      "cell_type": "markdown",
      "source": [
        "FAISS 벡터 DB 디스크에서 불러오기"
      ],
      "metadata": {
        "id": "4tGy1kxkgON_"
      }
    },
    {
      "cell_type": "code",
      "source": [
        "from langchain.indexes.vectorstore import VectorStoreIndexWrapper\n",
        "\n",
        "fdb = FAISS.load_local(\"faiss-nj\", embeddings, allow_dangerous_deserialization=True)\n",
        "index2 = VectorStoreIndexWrapper(vectorstore=fdb)"
      ],
      "metadata": {
        "id": "1Rx0IuSiVAqw"
      },
      "execution_count": null,
      "outputs": []
    },
    {
      "cell_type": "code",
      "source": [
        "index2.query(\"뉴진스의 멤버는 누구야?\", llm=chat, verbose=False)"
      ],
      "metadata": {
        "id": "58wGo2hqVAo5"
      },
      "execution_count": null,
      "outputs": []
    }
  ]
}